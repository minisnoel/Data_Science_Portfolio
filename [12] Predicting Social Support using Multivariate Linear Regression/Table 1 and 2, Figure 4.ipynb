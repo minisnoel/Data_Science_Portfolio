{
 "cells": [
  {
   "cell_type": "code",
   "execution_count": 1,
   "id": "16c2dc98",
   "metadata": {},
   "outputs": [
    {
     "name": "stderr",
     "output_type": "stream",
     "text": [
      "C:\\Users\\schoo\\anaconda3\\lib\\site-packages\\statsmodels\\tsa\\base\\tsa_model.py:7: FutureWarning: pandas.Int64Index is deprecated and will be removed from pandas in a future version. Use pandas.Index with the appropriate dtype instead.\n",
      "  from pandas import (to_datetime, Int64Index, DatetimeIndex, Period,\n",
      "C:\\Users\\schoo\\anaconda3\\lib\\site-packages\\statsmodels\\tsa\\base\\tsa_model.py:7: FutureWarning: pandas.Float64Index is deprecated and will be removed from pandas in a future version. Use pandas.Index with the appropriate dtype instead.\n",
      "  from pandas import (to_datetime, Int64Index, DatetimeIndex, Period,\n"
     ]
    }
   ],
   "source": [
    "## Data frame \n",
    "import pandas as pd\n",
    "\n",
    "import numpy as np\n",
    "from patsy import dmatrices\n",
    "\n",
    "from statsmodels.compat import lzip\n",
    "import statsmodels.api as sm\n",
    "from statsmodels.formula.api import ols\n",
    "from statsmodels.stats.outliers_influence import variance_inflation_factor\n",
    "from statsmodels.regression.linear_model import OLSResults\n",
    "\n",
    "import matplotlib.pyplot as plt\n",
    "import seaborn as sns\n",
    "\n",
    "from sklearn.linear_model import LinearRegression\n",
    "from vecstack import stacking\n",
    "\n",
    "%matplotlib inline\n",
    "plt.rc(\"figure\", figsize=(16, 8))\n",
    "plt.rc(\"font\", size=14)\n"
   ]
  },
  {
   "cell_type": "markdown",
   "id": "1fca1a1f",
   "metadata": {},
   "source": [
    "## Read in the Data "
   ]
  },
  {
   "cell_type": "code",
   "execution_count": 2,
   "id": "5c807ae4",
   "metadata": {},
   "outputs": [],
   "source": [
    "main_df = pd.read_excel(\"main_data.xlsx\")"
   ]
  },
  {
   "cell_type": "code",
   "execution_count": 3,
   "id": "da024179",
   "metadata": {
    "scrolled": true
   },
   "outputs": [
    {
     "data": {
      "text/html": [
       "<div>\n",
       "<style scoped>\n",
       "    .dataframe tbody tr th:only-of-type {\n",
       "        vertical-align: middle;\n",
       "    }\n",
       "\n",
       "    .dataframe tbody tr th {\n",
       "        vertical-align: top;\n",
       "    }\n",
       "\n",
       "    .dataframe thead th {\n",
       "        text-align: right;\n",
       "    }\n",
       "</style>\n",
       "<table border=\"1\" class=\"dataframe\">\n",
       "  <thead>\n",
       "    <tr style=\"text-align: right;\">\n",
       "      <th></th>\n",
       "      <th>Country Name</th>\n",
       "      <th>year</th>\n",
       "      <th>Continent</th>\n",
       "      <th>Social_support</th>\n",
       "      <th>Intentional_Homicide</th>\n",
       "      <th>Graduation_Ratio</th>\n",
       "      <th>Ado_Dropped</th>\n",
       "    </tr>\n",
       "  </thead>\n",
       "  <tbody>\n",
       "    <tr>\n",
       "      <th>0</th>\n",
       "      <td>Afghanistan</td>\n",
       "      <td>2008</td>\n",
       "      <td>Asia</td>\n",
       "      <td>0.450662</td>\n",
       "      <td>NaN</td>\n",
       "      <td>NaN</td>\n",
       "      <td>NaN</td>\n",
       "    </tr>\n",
       "    <tr>\n",
       "      <th>1</th>\n",
       "      <td>Afghanistan</td>\n",
       "      <td>2009</td>\n",
       "      <td>Asia</td>\n",
       "      <td>0.552308</td>\n",
       "      <td>NaN</td>\n",
       "      <td>NaN</td>\n",
       "      <td>NaN</td>\n",
       "    </tr>\n",
       "  </tbody>\n",
       "</table>\n",
       "</div>"
      ],
      "text/plain": [
       "  Country Name  year Continent  Social_support  Intentional_Homicide  \\\n",
       "0  Afghanistan  2008      Asia        0.450662                   NaN   \n",
       "1  Afghanistan  2009      Asia        0.552308                   NaN   \n",
       "\n",
       "   Graduation_Ratio  Ado_Dropped  \n",
       "0               NaN          NaN  \n",
       "1               NaN          NaN  "
      ]
     },
     "execution_count": 3,
     "metadata": {},
     "output_type": "execute_result"
    }
   ],
   "source": [
    "main_df = main_df.drop(columns = \"Unnamed: 0\")\n",
    "main_df.head(2)"
   ]
  },
  {
   "cell_type": "code",
   "execution_count": 4,
   "id": "3c4b4544",
   "metadata": {},
   "outputs": [
    {
     "data": {
      "text/html": [
       "<div>\n",
       "<style scoped>\n",
       "    .dataframe tbody tr th:only-of-type {\n",
       "        vertical-align: middle;\n",
       "    }\n",
       "\n",
       "    .dataframe tbody tr th {\n",
       "        vertical-align: top;\n",
       "    }\n",
       "\n",
       "    .dataframe thead th {\n",
       "        text-align: right;\n",
       "    }\n",
       "</style>\n",
       "<table border=\"1\" class=\"dataframe\">\n",
       "  <thead>\n",
       "    <tr style=\"text-align: right;\">\n",
       "      <th></th>\n",
       "      <th>Country Name</th>\n",
       "      <th>year</th>\n",
       "      <th>Continent</th>\n",
       "      <th>Social_support</th>\n",
       "      <th>Intentional_Homicide</th>\n",
       "      <th>Graduation_Ratio</th>\n",
       "      <th>Ado_Dropped</th>\n",
       "    </tr>\n",
       "  </thead>\n",
       "  <tbody>\n",
       "    <tr>\n",
       "      <th>0</th>\n",
       "      <td>Afghanistan</td>\n",
       "      <td>2008</td>\n",
       "      <td>Asia</td>\n",
       "      <td>0.450662</td>\n",
       "      <td>NaN</td>\n",
       "      <td>NaN</td>\n",
       "      <td>NaN</td>\n",
       "    </tr>\n",
       "    <tr>\n",
       "      <th>1</th>\n",
       "      <td>Afghanistan</td>\n",
       "      <td>2009</td>\n",
       "      <td>Asia</td>\n",
       "      <td>0.552308</td>\n",
       "      <td>NaN</td>\n",
       "      <td>NaN</td>\n",
       "      <td>NaN</td>\n",
       "    </tr>\n",
       "    <tr>\n",
       "      <th>2</th>\n",
       "      <td>Afghanistan</td>\n",
       "      <td>2010</td>\n",
       "      <td>Asia</td>\n",
       "      <td>0.539075</td>\n",
       "      <td>NaN</td>\n",
       "      <td>NaN</td>\n",
       "      <td>NaN</td>\n",
       "    </tr>\n",
       "    <tr>\n",
       "      <th>3</th>\n",
       "      <td>Afghanistan</td>\n",
       "      <td>2011</td>\n",
       "      <td>Asia</td>\n",
       "      <td>0.521104</td>\n",
       "      <td>NaN</td>\n",
       "      <td>NaN</td>\n",
       "      <td>NaN</td>\n",
       "    </tr>\n",
       "  </tbody>\n",
       "</table>\n",
       "</div>"
      ],
      "text/plain": [
       "  Country Name  year Continent  Social_support  Intentional_Homicide  \\\n",
       "0  Afghanistan  2008      Asia        0.450662                   NaN   \n",
       "1  Afghanistan  2009      Asia        0.552308                   NaN   \n",
       "2  Afghanistan  2010      Asia        0.539075                   NaN   \n",
       "3  Afghanistan  2011      Asia        0.521104                   NaN   \n",
       "\n",
       "   Graduation_Ratio  Ado_Dropped  \n",
       "0               NaN          NaN  \n",
       "1               NaN          NaN  \n",
       "2               NaN          NaN  \n",
       "3               NaN          NaN  "
      ]
     },
     "execution_count": 4,
     "metadata": {},
     "output_type": "execute_result"
    }
   ],
   "source": [
    "main_df = main_df.rename(columns ={\"Social support\":\"Social_support\"})\n",
    "main_df.head(4)"
   ]
  },
  {
   "cell_type": "code",
   "execution_count": 5,
   "id": "e3152bec",
   "metadata": {},
   "outputs": [
    {
     "data": {
      "text/html": [
       "<div>\n",
       "<style scoped>\n",
       "    .dataframe tbody tr th:only-of-type {\n",
       "        vertical-align: middle;\n",
       "    }\n",
       "\n",
       "    .dataframe tbody tr th {\n",
       "        vertical-align: top;\n",
       "    }\n",
       "\n",
       "    .dataframe thead th {\n",
       "        text-align: right;\n",
       "    }\n",
       "</style>\n",
       "<table border=\"1\" class=\"dataframe\">\n",
       "  <thead>\n",
       "    <tr style=\"text-align: right;\">\n",
       "      <th></th>\n",
       "      <th>Country Name</th>\n",
       "      <th>year</th>\n",
       "      <th>Continent</th>\n",
       "      <th>Social_support</th>\n",
       "      <th>Intentional_Homicide</th>\n",
       "      <th>Graduation_Ratio</th>\n",
       "      <th>Ado_Dropped</th>\n",
       "    </tr>\n",
       "  </thead>\n",
       "  <tbody>\n",
       "    <tr>\n",
       "      <th>7</th>\n",
       "      <td>Afghanistan</td>\n",
       "      <td>2015</td>\n",
       "      <td>Asia</td>\n",
       "      <td>0.528597</td>\n",
       "      <td>9.975262</td>\n",
       "      <td>NaN</td>\n",
       "      <td>NaN</td>\n",
       "    </tr>\n",
       "    <tr>\n",
       "      <th>8</th>\n",
       "      <td>Afghanistan</td>\n",
       "      <td>2016</td>\n",
       "      <td>Asia</td>\n",
       "      <td>0.559072</td>\n",
       "      <td>6.692419</td>\n",
       "      <td>NaN</td>\n",
       "      <td>NaN</td>\n",
       "    </tr>\n",
       "    <tr>\n",
       "      <th>9</th>\n",
       "      <td>Afghanistan</td>\n",
       "      <td>2017</td>\n",
       "      <td>Asia</td>\n",
       "      <td>0.490880</td>\n",
       "      <td>6.800695</td>\n",
       "      <td>NaN</td>\n",
       "      <td>NaN</td>\n",
       "    </tr>\n",
       "    <tr>\n",
       "      <th>10</th>\n",
       "      <td>Afghanistan</td>\n",
       "      <td>2018</td>\n",
       "      <td>Asia</td>\n",
       "      <td>0.507516</td>\n",
       "      <td>6.743573</td>\n",
       "      <td>9.7769</td>\n",
       "      <td>NaN</td>\n",
       "    </tr>\n",
       "    <tr>\n",
       "      <th>11</th>\n",
       "      <td>Afghanistan</td>\n",
       "      <td>2019</td>\n",
       "      <td>Asia</td>\n",
       "      <td>0.419973</td>\n",
       "      <td>7.180397</td>\n",
       "      <td>NaN</td>\n",
       "      <td>NaN</td>\n",
       "    </tr>\n",
       "  </tbody>\n",
       "</table>\n",
       "</div>"
      ],
      "text/plain": [
       "   Country Name  year Continent  Social_support  Intentional_Homicide  \\\n",
       "7   Afghanistan  2015      Asia        0.528597              9.975262   \n",
       "8   Afghanistan  2016      Asia        0.559072              6.692419   \n",
       "9   Afghanistan  2017      Asia        0.490880              6.800695   \n",
       "10  Afghanistan  2018      Asia        0.507516              6.743573   \n",
       "11  Afghanistan  2019      Asia        0.419973              7.180397   \n",
       "\n",
       "    Graduation_Ratio  Ado_Dropped  \n",
       "7                NaN          NaN  \n",
       "8                NaN          NaN  \n",
       "9                NaN          NaN  \n",
       "10            9.7769          NaN  \n",
       "11               NaN          NaN  "
      ]
     },
     "execution_count": 5,
     "metadata": {},
     "output_type": "execute_result"
    }
   ],
   "source": [
    "main_df = main_df[main_df[\"year\"].isin([2015,2016,2017,2018,2019])]\n",
    "main_df.head(5)"
   ]
  },
  {
   "cell_type": "code",
   "execution_count": 6,
   "id": "ec2a29ad",
   "metadata": {},
   "outputs": [],
   "source": [
    "main_df = main_df.reset_index(drop = True)"
   ]
  },
  {
   "cell_type": "code",
   "execution_count": 14,
   "id": "04048c4d",
   "metadata": {},
   "outputs": [
    {
     "data": {
      "text/plain": [
       "90.24088"
      ]
     },
     "execution_count": 14,
     "metadata": {},
     "output_type": "execute_result"
    }
   ],
   "source": [
    "main_df[\"Graduation_Ratio\"].max()"
   ]
  },
  {
   "cell_type": "code",
   "execution_count": 13,
   "id": "85d8e260",
   "metadata": {},
   "outputs": [
    {
     "data": {
      "text/plain": [
       "1.48576"
      ]
     },
     "execution_count": 13,
     "metadata": {},
     "output_type": "execute_result"
    }
   ],
   "source": [
    "main_df[\"Graduation_Ratio\"].min()"
   ]
  },
  {
   "cell_type": "markdown",
   "id": "0abcff93",
   "metadata": {},
   "source": [
    "## Transform and make smaller"
   ]
  },
  {
   "cell_type": "code",
   "execution_count": 8,
   "id": "86aec2df",
   "metadata": {},
   "outputs": [
    {
     "data": {
      "text/html": [
       "<div>\n",
       "<style scoped>\n",
       "    .dataframe tbody tr th:only-of-type {\n",
       "        vertical-align: middle;\n",
       "    }\n",
       "\n",
       "    .dataframe tbody tr th {\n",
       "        vertical-align: top;\n",
       "    }\n",
       "\n",
       "    .dataframe thead th {\n",
       "        text-align: right;\n",
       "    }\n",
       "</style>\n",
       "<table border=\"1\" class=\"dataframe\">\n",
       "  <thead>\n",
       "    <tr style=\"text-align: right;\">\n",
       "      <th></th>\n",
       "      <th>Country Name</th>\n",
       "      <th>year</th>\n",
       "      <th>Continent</th>\n",
       "      <th>Social_support</th>\n",
       "      <th>Intentional_Homicide</th>\n",
       "      <th>Graduation_Ratio</th>\n",
       "      <th>Ado_Dropped</th>\n",
       "      <th>Intentional_Homicide_log</th>\n",
       "    </tr>\n",
       "  </thead>\n",
       "  <tbody>\n",
       "    <tr>\n",
       "      <th>0</th>\n",
       "      <td>Afghanistan</td>\n",
       "      <td>2015</td>\n",
       "      <td>Asia</td>\n",
       "      <td>0.528597</td>\n",
       "      <td>9.975262</td>\n",
       "      <td>NaN</td>\n",
       "      <td>NaN</td>\n",
       "      <td>2.300108</td>\n",
       "    </tr>\n",
       "    <tr>\n",
       "      <th>1</th>\n",
       "      <td>Afghanistan</td>\n",
       "      <td>2016</td>\n",
       "      <td>Asia</td>\n",
       "      <td>0.559072</td>\n",
       "      <td>6.692419</td>\n",
       "      <td>NaN</td>\n",
       "      <td>NaN</td>\n",
       "      <td>1.900975</td>\n",
       "    </tr>\n",
       "    <tr>\n",
       "      <th>2</th>\n",
       "      <td>Afghanistan</td>\n",
       "      <td>2017</td>\n",
       "      <td>Asia</td>\n",
       "      <td>0.490880</td>\n",
       "      <td>6.800695</td>\n",
       "      <td>NaN</td>\n",
       "      <td>NaN</td>\n",
       "      <td>1.917025</td>\n",
       "    </tr>\n",
       "    <tr>\n",
       "      <th>3</th>\n",
       "      <td>Afghanistan</td>\n",
       "      <td>2018</td>\n",
       "      <td>Asia</td>\n",
       "      <td>0.507516</td>\n",
       "      <td>6.743573</td>\n",
       "      <td>9.7769</td>\n",
       "      <td>NaN</td>\n",
       "      <td>1.908590</td>\n",
       "    </tr>\n",
       "    <tr>\n",
       "      <th>4</th>\n",
       "      <td>Afghanistan</td>\n",
       "      <td>2019</td>\n",
       "      <td>Asia</td>\n",
       "      <td>0.419973</td>\n",
       "      <td>7.180397</td>\n",
       "      <td>NaN</td>\n",
       "      <td>NaN</td>\n",
       "      <td>1.971355</td>\n",
       "    </tr>\n",
       "  </tbody>\n",
       "</table>\n",
       "</div>"
      ],
      "text/plain": [
       "  Country Name  year Continent  Social_support  Intentional_Homicide  \\\n",
       "0  Afghanistan  2015      Asia        0.528597              9.975262   \n",
       "1  Afghanistan  2016      Asia        0.559072              6.692419   \n",
       "2  Afghanistan  2017      Asia        0.490880              6.800695   \n",
       "3  Afghanistan  2018      Asia        0.507516              6.743573   \n",
       "4  Afghanistan  2019      Asia        0.419973              7.180397   \n",
       "\n",
       "   Graduation_Ratio  Ado_Dropped  Intentional_Homicide_log  \n",
       "0               NaN          NaN                  2.300108  \n",
       "1               NaN          NaN                  1.900975  \n",
       "2               NaN          NaN                  1.917025  \n",
       "3            9.7769          NaN                  1.908590  \n",
       "4               NaN          NaN                  1.971355  "
      ]
     },
     "execution_count": 8,
     "metadata": {},
     "output_type": "execute_result"
    }
   ],
   "source": [
    "data_transformed = main_df\n",
    "\n",
    "data_transformed[\"Intentional_Homicide_log\"] = np.log(data_transformed[\"Intentional_Homicide\"])\n",
    "\n",
    "data_transformed.head(5)"
   ]
  },
  {
   "cell_type": "code",
   "execution_count": 9,
   "id": "faad1c9f",
   "metadata": {},
   "outputs": [],
   "source": [
    "data_transformed_Nas = data_transformed.dropna()"
   ]
  },
  {
   "cell_type": "code",
   "execution_count": 10,
   "id": "4e916c43",
   "metadata": {},
   "outputs": [
    {
     "data": {
      "text/plain": [
       "193"
      ]
     },
     "execution_count": 10,
     "metadata": {},
     "output_type": "execute_result"
    }
   ],
   "source": [
    "len(data_transformed_Nas)"
   ]
  },
  {
   "cell_type": "markdown",
   "id": "aaed1583",
   "metadata": {},
   "source": [
    "## Split into years"
   ]
  },
  {
   "cell_type": "code",
   "execution_count": 11,
   "id": "08fde825",
   "metadata": {},
   "outputs": [
    {
     "name": "stderr",
     "output_type": "stream",
     "text": [
      "C:\\Users\\schoo\\AppData\\Local\\Temp/ipykernel_12220/4227565750.py:1: UserWarning: Boolean Series key will be reindexed to match DataFrame index.\n",
      "  data_transformed_Nas_2015 = data_transformed_Nas[data_transformed[\"year\"] == 2015]\n",
      "C:\\Users\\schoo\\AppData\\Local\\Temp/ipykernel_12220/4227565750.py:2: UserWarning: Boolean Series key will be reindexed to match DataFrame index.\n",
      "  data_transformed_Nas_2016 = data_transformed_Nas[data_transformed[\"year\"] == 2016]\n",
      "C:\\Users\\schoo\\AppData\\Local\\Temp/ipykernel_12220/4227565750.py:3: UserWarning: Boolean Series key will be reindexed to match DataFrame index.\n",
      "  data_transformed_Nas_2017 = data_transformed_Nas[data_transformed[\"year\"] == 2017]\n",
      "C:\\Users\\schoo\\AppData\\Local\\Temp/ipykernel_12220/4227565750.py:4: UserWarning: Boolean Series key will be reindexed to match DataFrame index.\n",
      "  data_transformed_Nas_2018 = data_transformed_Nas[data_transformed[\"year\"] == 2018]\n",
      "C:\\Users\\schoo\\AppData\\Local\\Temp/ipykernel_12220/4227565750.py:5: UserWarning: Boolean Series key will be reindexed to match DataFrame index.\n",
      "  data_transformed_Nas_2019 = data_transformed_Nas[data_transformed[\"year\"] == 2019]\n"
     ]
    }
   ],
   "source": [
    "data_transformed_Nas_2015 = data_transformed_Nas[data_transformed[\"year\"] == 2015]\n",
    "data_transformed_Nas_2016 = data_transformed_Nas[data_transformed[\"year\"] == 2016]\n",
    "data_transformed_Nas_2017 = data_transformed_Nas[data_transformed[\"year\"] == 2017]\n",
    "data_transformed_Nas_2018 = data_transformed_Nas[data_transformed[\"year\"] == 2018]\n",
    "data_transformed_Nas_2019 = data_transformed_Nas[data_transformed[\"year\"] == 2019]"
   ]
  },
  {
   "cell_type": "code",
   "execution_count": 12,
   "id": "d940db6c",
   "metadata": {},
   "outputs": [
    {
     "data": {
      "text/html": [
       "<div>\n",
       "<style scoped>\n",
       "    .dataframe tbody tr th:only-of-type {\n",
       "        vertical-align: middle;\n",
       "    }\n",
       "\n",
       "    .dataframe tbody tr th {\n",
       "        vertical-align: top;\n",
       "    }\n",
       "\n",
       "    .dataframe thead th {\n",
       "        text-align: right;\n",
       "    }\n",
       "</style>\n",
       "<table border=\"1\" class=\"dataframe\">\n",
       "  <thead>\n",
       "    <tr style=\"text-align: right;\">\n",
       "      <th></th>\n",
       "      <th>Country Name</th>\n",
       "      <th>year</th>\n",
       "      <th>Continent</th>\n",
       "      <th>Social_support</th>\n",
       "      <th>Intentional_Homicide</th>\n",
       "      <th>Graduation_Ratio</th>\n",
       "      <th>Ado_Dropped</th>\n",
       "      <th>Intentional_Homicide_log</th>\n",
       "    </tr>\n",
       "  </thead>\n",
       "  <tbody>\n",
       "    <tr>\n",
       "      <th>0</th>\n",
       "      <td>Albania</td>\n",
       "      <td>2015</td>\n",
       "      <td>Europe</td>\n",
       "      <td>0.639356</td>\n",
       "      <td>2.220310</td>\n",
       "      <td>39.54295</td>\n",
       "      <td>3.05841</td>\n",
       "      <td>0.797647</td>\n",
       "    </tr>\n",
       "    <tr>\n",
       "      <th>1</th>\n",
       "      <td>Australia</td>\n",
       "      <td>2015</td>\n",
       "      <td>Oceania</td>\n",
       "      <td>0.951862</td>\n",
       "      <td>0.990754</td>\n",
       "      <td>58.92220</td>\n",
       "      <td>0.16973</td>\n",
       "      <td>-0.009289</td>\n",
       "    </tr>\n",
       "  </tbody>\n",
       "</table>\n",
       "</div>"
      ],
      "text/plain": [
       "  Country Name  year Continent  Social_support  Intentional_Homicide  \\\n",
       "0      Albania  2015    Europe        0.639356              2.220310   \n",
       "1    Australia  2015   Oceania        0.951862              0.990754   \n",
       "\n",
       "   Graduation_Ratio  Ado_Dropped  Intentional_Homicide_log  \n",
       "0          39.54295      3.05841                  0.797647  \n",
       "1          58.92220      0.16973                 -0.009289  "
      ]
     },
     "execution_count": 12,
     "metadata": {},
     "output_type": "execute_result"
    }
   ],
   "source": [
    "data_transformed_Nas_2015 = data_transformed_Nas_2015.reset_index(drop = True)\n",
    "data_transformed_Nas_2015.head(2)"
   ]
  },
  {
   "cell_type": "code",
   "execution_count": 13,
   "id": "f89e5a44",
   "metadata": {},
   "outputs": [
    {
     "data": {
      "text/html": [
       "<div>\n",
       "<style scoped>\n",
       "    .dataframe tbody tr th:only-of-type {\n",
       "        vertical-align: middle;\n",
       "    }\n",
       "\n",
       "    .dataframe tbody tr th {\n",
       "        vertical-align: top;\n",
       "    }\n",
       "\n",
       "    .dataframe thead th {\n",
       "        text-align: right;\n",
       "    }\n",
       "</style>\n",
       "<table border=\"1\" class=\"dataframe\">\n",
       "  <thead>\n",
       "    <tr style=\"text-align: right;\">\n",
       "      <th></th>\n",
       "      <th>Country Name</th>\n",
       "      <th>year</th>\n",
       "      <th>Continent</th>\n",
       "      <th>Social_support</th>\n",
       "      <th>Intentional_Homicide</th>\n",
       "      <th>Graduation_Ratio</th>\n",
       "      <th>Ado_Dropped</th>\n",
       "      <th>Intentional_Homicide_log</th>\n",
       "    </tr>\n",
       "  </thead>\n",
       "  <tbody>\n",
       "    <tr>\n",
       "      <th>0</th>\n",
       "      <td>Albania</td>\n",
       "      <td>2016</td>\n",
       "      <td>Europe</td>\n",
       "      <td>0.638411</td>\n",
       "      <td>2.742043</td>\n",
       "      <td>38.8766</td>\n",
       "      <td>5.17389</td>\n",
       "      <td>1.008703</td>\n",
       "    </tr>\n",
       "    <tr>\n",
       "      <th>1</th>\n",
       "      <td>Armenia</td>\n",
       "      <td>2016</td>\n",
       "      <td>Asia</td>\n",
       "      <td>0.709218</td>\n",
       "      <td>3.035764</td>\n",
       "      <td>26.0628</td>\n",
       "      <td>6.79751</td>\n",
       "      <td>1.110463</td>\n",
       "    </tr>\n",
       "  </tbody>\n",
       "</table>\n",
       "</div>"
      ],
      "text/plain": [
       "  Country Name  year Continent  Social_support  Intentional_Homicide  \\\n",
       "0      Albania  2016    Europe        0.638411              2.742043   \n",
       "1      Armenia  2016      Asia        0.709218              3.035764   \n",
       "\n",
       "   Graduation_Ratio  Ado_Dropped  Intentional_Homicide_log  \n",
       "0           38.8766      5.17389                  1.008703  \n",
       "1           26.0628      6.79751                  1.110463  "
      ]
     },
     "execution_count": 13,
     "metadata": {},
     "output_type": "execute_result"
    }
   ],
   "source": [
    "data_transformed_Nas_2016 = data_transformed_Nas_2016.reset_index(drop = True)\n",
    "data_transformed_Nas_2016.head(2)"
   ]
  },
  {
   "cell_type": "code",
   "execution_count": 14,
   "id": "1cd90db2",
   "metadata": {},
   "outputs": [
    {
     "data": {
      "text/html": [
       "<div>\n",
       "<style scoped>\n",
       "    .dataframe tbody tr th:only-of-type {\n",
       "        vertical-align: middle;\n",
       "    }\n",
       "\n",
       "    .dataframe tbody tr th {\n",
       "        vertical-align: top;\n",
       "    }\n",
       "\n",
       "    .dataframe thead th {\n",
       "        text-align: right;\n",
       "    }\n",
       "</style>\n",
       "<table border=\"1\" class=\"dataframe\">\n",
       "  <thead>\n",
       "    <tr style=\"text-align: right;\">\n",
       "      <th></th>\n",
       "      <th>Country Name</th>\n",
       "      <th>year</th>\n",
       "      <th>Continent</th>\n",
       "      <th>Social_support</th>\n",
       "      <th>Intentional_Homicide</th>\n",
       "      <th>Graduation_Ratio</th>\n",
       "      <th>Ado_Dropped</th>\n",
       "      <th>Intentional_Homicide_log</th>\n",
       "    </tr>\n",
       "  </thead>\n",
       "  <tbody>\n",
       "    <tr>\n",
       "      <th>0</th>\n",
       "      <td>Albania</td>\n",
       "      <td>2017</td>\n",
       "      <td>Europe</td>\n",
       "      <td>0.637698</td>\n",
       "      <td>2.014340</td>\n",
       "      <td>43.55277</td>\n",
       "      <td>6.07264</td>\n",
       "      <td>0.700292</td>\n",
       "    </tr>\n",
       "    <tr>\n",
       "      <th>1</th>\n",
       "      <td>Armenia</td>\n",
       "      <td>2017</td>\n",
       "      <td>Asia</td>\n",
       "      <td>0.697925</td>\n",
       "      <td>2.454484</td>\n",
       "      <td>43.56363</td>\n",
       "      <td>7.37141</td>\n",
       "      <td>0.897917</td>\n",
       "    </tr>\n",
       "  </tbody>\n",
       "</table>\n",
       "</div>"
      ],
      "text/plain": [
       "  Country Name  year Continent  Social_support  Intentional_Homicide  \\\n",
       "0      Albania  2017    Europe        0.637698              2.014340   \n",
       "1      Armenia  2017      Asia        0.697925              2.454484   \n",
       "\n",
       "   Graduation_Ratio  Ado_Dropped  Intentional_Homicide_log  \n",
       "0          43.55277      6.07264                  0.700292  \n",
       "1          43.56363      7.37141                  0.897917  "
      ]
     },
     "execution_count": 14,
     "metadata": {},
     "output_type": "execute_result"
    }
   ],
   "source": [
    "data_transformed_Nas_2017 = data_transformed_Nas_2017.reset_index(drop = True)\n",
    "data_transformed_Nas_2017.head(2)"
   ]
  },
  {
   "cell_type": "code",
   "execution_count": 15,
   "id": "8349bb6d",
   "metadata": {},
   "outputs": [
    {
     "data": {
      "text/html": [
       "<div>\n",
       "<style scoped>\n",
       "    .dataframe tbody tr th:only-of-type {\n",
       "        vertical-align: middle;\n",
       "    }\n",
       "\n",
       "    .dataframe tbody tr th {\n",
       "        vertical-align: top;\n",
       "    }\n",
       "\n",
       "    .dataframe thead th {\n",
       "        text-align: right;\n",
       "    }\n",
       "</style>\n",
       "<table border=\"1\" class=\"dataframe\">\n",
       "  <thead>\n",
       "    <tr style=\"text-align: right;\">\n",
       "      <th></th>\n",
       "      <th>Country Name</th>\n",
       "      <th>year</th>\n",
       "      <th>Continent</th>\n",
       "      <th>Social_support</th>\n",
       "      <th>Intentional_Homicide</th>\n",
       "      <th>Graduation_Ratio</th>\n",
       "      <th>Ado_Dropped</th>\n",
       "      <th>Intentional_Homicide_log</th>\n",
       "    </tr>\n",
       "  </thead>\n",
       "  <tbody>\n",
       "    <tr>\n",
       "      <th>0</th>\n",
       "      <td>Albania</td>\n",
       "      <td>2018</td>\n",
       "      <td>Europe</td>\n",
       "      <td>0.683592</td>\n",
       "      <td>2.294046</td>\n",
       "      <td>45.24585</td>\n",
       "      <td>3.05680</td>\n",
       "      <td>0.830317</td>\n",
       "    </tr>\n",
       "    <tr>\n",
       "      <th>1</th>\n",
       "      <td>Argentina</td>\n",
       "      <td>2018</td>\n",
       "      <td>South America</td>\n",
       "      <td>0.899912</td>\n",
       "      <td>5.367726</td>\n",
       "      <td>7.76489</td>\n",
       "      <td>0.11445</td>\n",
       "      <td>1.680404</td>\n",
       "    </tr>\n",
       "  </tbody>\n",
       "</table>\n",
       "</div>"
      ],
      "text/plain": [
       "  Country Name  year      Continent  Social_support  Intentional_Homicide  \\\n",
       "0      Albania  2018         Europe        0.683592              2.294046   \n",
       "1    Argentina  2018  South America        0.899912              5.367726   \n",
       "\n",
       "   Graduation_Ratio  Ado_Dropped  Intentional_Homicide_log  \n",
       "0          45.24585      3.05680                  0.830317  \n",
       "1           7.76489      0.11445                  1.680404  "
      ]
     },
     "execution_count": 15,
     "metadata": {},
     "output_type": "execute_result"
    }
   ],
   "source": [
    "data_transformed_Nas_2018 = data_transformed_Nas_2018.reset_index(drop = True)\n",
    "data_transformed_Nas_2018.head(2)"
   ]
  },
  {
   "cell_type": "code",
   "execution_count": 16,
   "id": "65426918",
   "metadata": {},
   "outputs": [
    {
     "data": {
      "text/html": [
       "<div>\n",
       "<style scoped>\n",
       "    .dataframe tbody tr th:only-of-type {\n",
       "        vertical-align: middle;\n",
       "    }\n",
       "\n",
       "    .dataframe tbody tr th {\n",
       "        vertical-align: top;\n",
       "    }\n",
       "\n",
       "    .dataframe thead th {\n",
       "        text-align: right;\n",
       "    }\n",
       "</style>\n",
       "<table border=\"1\" class=\"dataframe\">\n",
       "  <thead>\n",
       "    <tr style=\"text-align: right;\">\n",
       "      <th></th>\n",
       "      <th>Country Name</th>\n",
       "      <th>year</th>\n",
       "      <th>Continent</th>\n",
       "      <th>Social_support</th>\n",
       "      <th>Intentional_Homicide</th>\n",
       "      <th>Graduation_Ratio</th>\n",
       "      <th>Ado_Dropped</th>\n",
       "      <th>Intentional_Homicide_log</th>\n",
       "    </tr>\n",
       "  </thead>\n",
       "  <tbody>\n",
       "    <tr>\n",
       "      <th>0</th>\n",
       "      <td>Albania</td>\n",
       "      <td>2019</td>\n",
       "      <td>Europe</td>\n",
       "      <td>0.686365</td>\n",
       "      <td>2.261748</td>\n",
       "      <td>44.58341</td>\n",
       "      <td>3.69733</td>\n",
       "      <td>0.816138</td>\n",
       "    </tr>\n",
       "    <tr>\n",
       "      <th>1</th>\n",
       "      <td>Argentina</td>\n",
       "      <td>2019</td>\n",
       "      <td>South America</td>\n",
       "      <td>0.896371</td>\n",
       "      <td>5.155823</td>\n",
       "      <td>19.04099</td>\n",
       "      <td>0.93901</td>\n",
       "      <td>1.640127</td>\n",
       "    </tr>\n",
       "  </tbody>\n",
       "</table>\n",
       "</div>"
      ],
      "text/plain": [
       "  Country Name  year      Continent  Social_support  Intentional_Homicide  \\\n",
       "0      Albania  2019         Europe        0.686365              2.261748   \n",
       "1    Argentina  2019  South America        0.896371              5.155823   \n",
       "\n",
       "   Graduation_Ratio  Ado_Dropped  Intentional_Homicide_log  \n",
       "0          44.58341      3.69733                  0.816138  \n",
       "1          19.04099      0.93901                  1.640127  "
      ]
     },
     "execution_count": 16,
     "metadata": {},
     "output_type": "execute_result"
    }
   ],
   "source": [
    "data_transformed_Nas_2019 = data_transformed_Nas_2019.reset_index(drop = True)\n",
    "data_transformed_Nas_2019.head(2)"
   ]
  },
  {
   "cell_type": "markdown",
   "id": "7f4d1f43",
   "metadata": {},
   "source": [
    "## Models"
   ]
  },
  {
   "cell_type": "markdown",
   "id": "05dc5440",
   "metadata": {},
   "source": [
    "## Model 2015"
   ]
  },
  {
   "cell_type": "code",
   "execution_count": 17,
   "id": "3f2cbd35",
   "metadata": {},
   "outputs": [
    {
     "name": "stdout",
     "output_type": "stream",
     "text": [
      "                            OLS Regression Results                            \n",
      "==============================================================================\n",
      "Dep. Variable:         Social_support   R-squared:                       0.136\n",
      "Model:                            OLS   Adj. R-squared:                  0.046\n",
      "Method:                 Least Squares   F-statistic:                     1.515\n",
      "Date:                Wed, 20 Sep 2023   Prob (F-statistic):              0.231\n",
      "Time:                        09:01:32   Log-Likelihood:                 41.496\n",
      "No. Observations:                  33   AIC:                            -74.99\n",
      "Df Residuals:                      29   BIC:                            -69.01\n",
      "Df Model:                           3                                         \n",
      "Covariance Type:            nonrobust                                         \n",
      "========================================================================================================\n",
      "                                           coef    std err          t      P>|t|      [0.025      0.975]\n",
      "--------------------------------------------------------------------------------------------------------\n",
      "Intercept                                0.9021      0.019     48.712      0.000       0.864       0.940\n",
      "Ado_Dropped                             -0.0109      0.007     -1.530      0.137      -0.025       0.004\n",
      "Intentional_Homicide_log                -0.0312      0.020     -1.539      0.135      -0.073       0.010\n",
      "Ado_Dropped:Intentional_Homicide_log     0.0058      0.004      1.363      0.183      -0.003       0.015\n",
      "==============================================================================\n",
      "Omnibus:                       12.175   Durbin-Watson:                   1.534\n",
      "Prob(Omnibus):                  0.002   Jarque-Bera (JB):               11.687\n",
      "Skew:                          -1.227   Prob(JB):                      0.00290\n",
      "Kurtosis:                       4.573   Cond. No.                         12.4\n",
      "==============================================================================\n",
      "\n",
      "Notes:\n",
      "[1] Standard Errors assume that the covariance matrix of the errors is correctly specified.\n"
     ]
    }
   ],
   "source": [
    "lm_all_fix_2015 = ols(\"Social_support ~ Ado_Dropped*Intentional_Homicide_log\", \n",
    "                        data = data_transformed_Nas_2015).fit()\n",
    "\n",
    "print(lm_all_fix_2015.summary())"
   ]
  },
  {
   "cell_type": "code",
   "execution_count": 18,
   "id": "235a6879",
   "metadata": {},
   "outputs": [
    {
     "name": "stdout",
     "output_type": "stream",
     "text": [
      "Number of outliers: 2\n"
     ]
    }
   ],
   "source": [
    "lm_cooksd = lm_all_fix_2015.get_influence().cooks_distance[0]\n",
    "\n",
    "n = len(data_transformed_Nas_2015[\"Social_support\"])\n",
    "\n",
    "critical_d = 4/n\n",
    "\n",
    "out_d = lm_cooksd > critical_d\n",
    "\n",
    "print(\"Number of outliers:\", len(data_transformed_Nas_2015.index[out_d]))"
   ]
  },
  {
   "cell_type": "code",
   "execution_count": 70,
   "id": "ec4c0404",
   "metadata": {},
   "outputs": [
    {
     "data": {
      "image/png": "[encoded data removed]",
      "text/plain": [
       "<Figure size 1152x576 with 4 Axes>"
      ]
     },
     "metadata": {
      "needs_background": "light"
     },
     "output_type": "display_data"
    }
   ],
   "source": [
    "fig = sm.graphics.plot_partregress_grid(lm_all_fix_2015)\n",
    "fig.tight_layout(pad=1.0)"
   ]
  },
  {
   "cell_type": "code",
   "execution_count": 19,
   "id": "07815a99",
   "metadata": {
    "scrolled": true
   },
   "outputs": [
    {
     "data": {
      "text/plain": [
       "[('Lagrange multiplier statistic', 0.9679306554703075),\n",
       " ('p-value', 0.8090111235653861)]"
      ]
     },
     "execution_count": 19,
     "metadata": {},
     "output_type": "execute_result"
    }
   ],
   "source": [
    "name = ['Lagrange multiplier statistic', 'p-value']\n",
    "test = sm.stats.het_breuschpagan(lm_all_fix_2015.resid, lm_all_fix_2015.model.exog)\n",
    "lzip(name, test)"
   ]
  },
  {
   "cell_type": "code",
   "execution_count": 20,
   "id": "8ea79c23",
   "metadata": {},
   "outputs": [
    {
     "data": {
      "text/plain": [
       "1.5340004659973827"
      ]
     },
     "execution_count": 20,
     "metadata": {},
     "output_type": "execute_result"
    }
   ],
   "source": [
    "sm.stats.durbin_watson(lm_all_fix_2015.resid)"
   ]
  },
  {
   "cell_type": "code",
   "execution_count": 21,
   "id": "0fe7061c",
   "metadata": {},
   "outputs": [
    {
     "data": {
      "text/html": [
       "<div>\n",
       "<style scoped>\n",
       "    .dataframe tbody tr th:only-of-type {\n",
       "        vertical-align: middle;\n",
       "    }\n",
       "\n",
       "    .dataframe tbody tr th {\n",
       "        vertical-align: top;\n",
       "    }\n",
       "\n",
       "    .dataframe thead th {\n",
       "        text-align: right;\n",
       "    }\n",
       "</style>\n",
       "<table border=\"1\" class=\"dataframe\">\n",
       "  <thead>\n",
       "    <tr style=\"text-align: right;\">\n",
       "      <th></th>\n",
       "      <th>VIF Factor</th>\n",
       "      <th>Feature</th>\n",
       "    </tr>\n",
       "  </thead>\n",
       "  <tbody>\n",
       "    <tr>\n",
       "      <th>0</th>\n",
       "      <td>2.10</td>\n",
       "      <td>Intercept</td>\n",
       "    </tr>\n",
       "    <tr>\n",
       "      <th>1</th>\n",
       "      <td>2.12</td>\n",
       "      <td>Ado_Dropped</td>\n",
       "    </tr>\n",
       "    <tr>\n",
       "      <th>2</th>\n",
       "      <td>2.73</td>\n",
       "      <td>Intentional_Homicide_log</td>\n",
       "    </tr>\n",
       "    <tr>\n",
       "      <th>3</th>\n",
       "      <td>4.29</td>\n",
       "      <td>Ado_Dropped:Intentional_Homicide_log</td>\n",
       "    </tr>\n",
       "  </tbody>\n",
       "</table>\n",
       "</div>"
      ],
      "text/plain": [
       "   VIF Factor                               Feature\n",
       "0        2.10                             Intercept\n",
       "1        2.12                           Ado_Dropped\n",
       "2        2.73              Intentional_Homicide_log\n",
       "3        4.29  Ado_Dropped:Intentional_Homicide_log"
      ]
     },
     "execution_count": 21,
     "metadata": {},
     "output_type": "execute_result"
    }
   ],
   "source": [
    "y, X = dmatrices(\"Social_support ~ Ado_Dropped*Intentional_Homicide_log\",\n",
    "                 data_transformed_Nas_2015, return_type='dataframe')\n",
    "\n",
    "vif = pd.DataFrame()\n",
    "vif[\"VIF Factor\"] = [variance_inflation_factor(X.values, i) for i in range(X.shape[1])]\n",
    "vif[\"Feature\"] = X.columns\n",
    "\n",
    "vif.round(2)"
   ]
  },
  {
   "cell_type": "markdown",
   "id": "8569cf07",
   "metadata": {},
   "source": [
    "## Model 2016"
   ]
  },
  {
   "cell_type": "code",
   "execution_count": 22,
   "id": "c1ab150e",
   "metadata": {},
   "outputs": [
    {
     "name": "stdout",
     "output_type": "stream",
     "text": [
      "                            OLS Regression Results                            \n",
      "==============================================================================\n",
      "Dep. Variable:         Social_support   R-squared:                       0.217\n",
      "Model:                            OLS   Adj. R-squared:                  0.136\n",
      "Method:                 Least Squares   F-statistic:                     2.675\n",
      "Date:                Wed, 20 Sep 2023   Prob (F-statistic):             0.0657\n",
      "Time:                        09:02:12   Log-Likelihood:                 33.059\n",
      "No. Observations:                  33   AIC:                            -58.12\n",
      "Df Residuals:                      29   BIC:                            -52.13\n",
      "Df Model:                           3                                         \n",
      "Covariance Type:            nonrobust                                         \n",
      "========================================================================================================\n",
      "                                           coef    std err          t      P>|t|      [0.025      0.975]\n",
      "--------------------------------------------------------------------------------------------------------\n",
      "Intercept                                0.9069      0.023     39.145      0.000       0.860       0.954\n",
      "Ado_Dropped                             -0.0192      0.007     -2.682      0.012      -0.034      -0.005\n",
      "Intentional_Homicide_log                -0.0090      0.026     -0.351      0.728      -0.061       0.043\n",
      "Ado_Dropped:Intentional_Homicide_log     0.0048      0.006      0.871      0.391      -0.007       0.016\n",
      "==============================================================================\n",
      "Omnibus:                       34.008   Durbin-Watson:                   1.927\n",
      "Prob(Omnibus):                  0.000   Jarque-Bera (JB):               94.587\n",
      "Skew:                          -2.271   Prob(JB):                     2.89e-21\n",
      "Kurtosis:                       9.940   Cond. No.                         11.0\n",
      "==============================================================================\n",
      "\n",
      "Notes:\n",
      "[1] Standard Errors assume that the covariance matrix of the errors is correctly specified.\n"
     ]
    }
   ],
   "source": [
    "lm_all_fix_2016 = ols(\"Social_support ~ Ado_Dropped*Intentional_Homicide_log\", \n",
    "                        data = data_transformed_Nas_2016).fit()\n",
    "\n",
    "print(lm_all_fix_2016.summary())"
   ]
  },
  {
   "cell_type": "code",
   "execution_count": 23,
   "id": "5a97ccd5",
   "metadata": {},
   "outputs": [
    {
     "name": "stdout",
     "output_type": "stream",
     "text": [
      "Number of outliers: 3\n"
     ]
    }
   ],
   "source": [
    "lm_cooksd = lm_all_fix_2016.get_influence().cooks_distance[0]\n",
    "\n",
    "n = len(data_transformed_Nas_2016[\"Social_support\"])\n",
    "\n",
    "critical_d = 4/n\n",
    "\n",
    "out_d = lm_cooksd > critical_d\n",
    "\n",
    "print(\"Number of outliers:\", len(data_transformed_Nas_2016.index[out_d]))"
   ]
  },
  {
   "cell_type": "code",
   "execution_count": 71,
   "id": "01688caa",
   "metadata": {},
   "outputs": [
    {
     "data": {
      "image/png": "[encoded data removed]",
      "text/plain": [
       "<Figure size 1152x576 with 4 Axes>"
      ]
     },
     "metadata": {
      "needs_background": "light"
     },
     "output_type": "display_data"
    }
   ],
   "source": [
    "fig = sm.graphics.plot_partregress_grid(lm_all_fix_2016)\n",
    "fig.tight_layout(pad=1.0)"
   ]
  },
  {
   "cell_type": "code",
   "execution_count": 24,
   "id": "511d1a6b",
   "metadata": {},
   "outputs": [
    {
     "data": {
      "text/plain": [
       "[('Lagrange multiplier statistic', 0.9679306554703075),\n",
       " ('p-value', 0.8090111235653861)]"
      ]
     },
     "execution_count": 24,
     "metadata": {},
     "output_type": "execute_result"
    }
   ],
   "source": [
    "name = ['Lagrange multiplier statistic', 'p-value']\n",
    "test = sm.stats.het_breuschpagan(lm_all_fix_2015.resid, lm_all_fix_2015.model.exog)\n",
    "lzip(name, test)"
   ]
  },
  {
   "cell_type": "code",
   "execution_count": 25,
   "id": "5f24c468",
   "metadata": {},
   "outputs": [
    {
     "data": {
      "text/plain": [
       "1.9271681721583434"
      ]
     },
     "execution_count": 25,
     "metadata": {},
     "output_type": "execute_result"
    }
   ],
   "source": [
    "sm.stats.durbin_watson(lm_all_fix_2016.resid)"
   ]
  },
  {
   "cell_type": "code",
   "execution_count": 27,
   "id": "988c74e2",
   "metadata": {},
   "outputs": [
    {
     "data": {
      "text/html": [
       "<div>\n",
       "<style scoped>\n",
       "    .dataframe tbody tr th:only-of-type {\n",
       "        vertical-align: middle;\n",
       "    }\n",
       "\n",
       "    .dataframe tbody tr th {\n",
       "        vertical-align: top;\n",
       "    }\n",
       "\n",
       "    .dataframe thead th {\n",
       "        text-align: right;\n",
       "    }\n",
       "</style>\n",
       "<table border=\"1\" class=\"dataframe\">\n",
       "  <thead>\n",
       "    <tr style=\"text-align: right;\">\n",
       "      <th></th>\n",
       "      <th>VIF Factor</th>\n",
       "      <th>Feature</th>\n",
       "    </tr>\n",
       "  </thead>\n",
       "  <tbody>\n",
       "    <tr>\n",
       "      <th>0</th>\n",
       "      <td>1.97</td>\n",
       "      <td>Intercept</td>\n",
       "    </tr>\n",
       "    <tr>\n",
       "      <th>1</th>\n",
       "      <td>1.59</td>\n",
       "      <td>Ado_Dropped</td>\n",
       "    </tr>\n",
       "    <tr>\n",
       "      <th>2</th>\n",
       "      <td>3.01</td>\n",
       "      <td>Intentional_Homicide_log</td>\n",
       "    </tr>\n",
       "    <tr>\n",
       "      <th>3</th>\n",
       "      <td>3.71</td>\n",
       "      <td>Ado_Dropped:Intentional_Homicide_log</td>\n",
       "    </tr>\n",
       "  </tbody>\n",
       "</table>\n",
       "</div>"
      ],
      "text/plain": [
       "   VIF Factor                               Feature\n",
       "0        1.97                             Intercept\n",
       "1        1.59                           Ado_Dropped\n",
       "2        3.01              Intentional_Homicide_log\n",
       "3        3.71  Ado_Dropped:Intentional_Homicide_log"
      ]
     },
     "execution_count": 27,
     "metadata": {},
     "output_type": "execute_result"
    }
   ],
   "source": [
    "y, X = dmatrices(\"Social_support ~ Ado_Dropped*Intentional_Homicide_log\",\n",
    "                 data_transformed_Nas_2016, return_type='dataframe')\n",
    "\n",
    "vif = pd.DataFrame()\n",
    "vif[\"VIF Factor\"] = [variance_inflation_factor(X.values, i) for i in range(X.shape[1])]\n",
    "vif[\"Feature\"] = X.columns\n",
    "\n",
    "vif.round(2)"
   ]
  },
  {
   "cell_type": "markdown",
   "id": "6725a00c",
   "metadata": {},
   "source": [
    "## Model 2017"
   ]
  },
  {
   "cell_type": "code",
   "execution_count": 28,
   "id": "081e6538",
   "metadata": {},
   "outputs": [
    {
     "name": "stdout",
     "output_type": "stream",
     "text": [
      "                            OLS Regression Results                            \n",
      "==============================================================================\n",
      "Dep. Variable:         Social_support   R-squared:                       0.407\n",
      "Model:                            OLS   Adj. R-squared:                  0.354\n",
      "Method:                 Least Squares   F-statistic:                     7.763\n",
      "Date:                Wed, 20 Sep 2023   Prob (F-statistic):           0.000443\n",
      "Time:                        09:02:35   Log-Likelihood:                 39.444\n",
      "No. Observations:                  38   AIC:                            -70.89\n",
      "Df Residuals:                      34   BIC:                            -64.34\n",
      "Df Model:                           3                                         \n",
      "Covariance Type:            nonrobust                                         \n",
      "========================================================================================================\n",
      "                                           coef    std err          t      P>|t|      [0.025      0.975]\n",
      "--------------------------------------------------------------------------------------------------------\n",
      "Intercept                                0.9103      0.019     47.091      0.000       0.871       0.950\n",
      "Ado_Dropped                             -0.0186      0.004     -4.374      0.000      -0.027      -0.010\n",
      "Intentional_Homicide_log                -0.0210      0.019     -1.103      0.278      -0.060       0.018\n",
      "Ado_Dropped:Intentional_Homicide_log     0.0055      0.002      2.342      0.025       0.001       0.010\n",
      "==============================================================================\n",
      "Omnibus:                       13.063   Durbin-Watson:                   2.052\n",
      "Prob(Omnibus):                  0.001   Jarque-Bera (JB):               16.127\n",
      "Skew:                          -0.999   Prob(JB):                     0.000315\n",
      "Kurtosis:                       5.488   Cond. No.                         22.6\n",
      "==============================================================================\n",
      "\n",
      "Notes:\n",
      "[1] Standard Errors assume that the covariance matrix of the errors is correctly specified.\n"
     ]
    }
   ],
   "source": [
    "lm_all_fix_2017 = ols(\"Social_support ~ Ado_Dropped*Intentional_Homicide_log\", \n",
    "                        data = data_transformed_Nas_2017).fit()\n",
    "\n",
    "print(lm_all_fix_2017.summary())"
   ]
  },
  {
   "cell_type": "code",
   "execution_count": 29,
   "id": "479ac896",
   "metadata": {},
   "outputs": [
    {
     "name": "stdout",
     "output_type": "stream",
     "text": [
      "Number of outliers: 3\n"
     ]
    }
   ],
   "source": [
    "lm_cooksd = lm_all_fix_2017.get_influence().cooks_distance[0]\n",
    "\n",
    "n = len(data_transformed_Nas_2017[\"Social_support\"])\n",
    "\n",
    "critical_d = 4/n\n",
    "\n",
    "out_d = lm_cooksd > critical_d\n",
    "\n",
    "print(\"Number of outliers:\", len(data_transformed_Nas_2017.index[out_d]))"
   ]
  },
  {
   "cell_type": "code",
   "execution_count": 72,
   "id": "6fd3899c",
   "metadata": {},
   "outputs": [
    {
     "data": {
      "image/png": "[encoded data removed]",
      "text/plain": [
       "<Figure size 1152x576 with 4 Axes>"
      ]
     },
     "metadata": {
      "needs_background": "light"
     },
     "output_type": "display_data"
    }
   ],
   "source": [
    "fig = sm.graphics.plot_partregress_grid(lm_all_fix_2017)\n",
    "fig.tight_layout(pad=1.0)"
   ]
  },
  {
   "cell_type": "code",
   "execution_count": 68,
   "id": "42c59896",
   "metadata": {},
   "outputs": [
    {
     "data": {
      "text/plain": [
       "[('Lagrange multiplier statistic', 2.1696587113735504),\n",
       " ('p-value', 0.5379493578807422)]"
      ]
     },
     "execution_count": 68,
     "metadata": {},
     "output_type": "execute_result"
    }
   ],
   "source": [
    "name = ['Lagrange multiplier statistic', 'p-value']\n",
    "test = sm.stats.het_breuschpagan(lm_all_fix_2017.resid, lm_all_fix_2017.model.exog)\n",
    "lzip(name, test)"
   ]
  },
  {
   "cell_type": "code",
   "execution_count": 31,
   "id": "09a6825c",
   "metadata": {},
   "outputs": [
    {
     "data": {
      "text/plain": [
       "2.052317115566663"
      ]
     },
     "execution_count": 31,
     "metadata": {},
     "output_type": "execute_result"
    }
   ],
   "source": [
    "sm.stats.durbin_watson(lm_all_fix_2017.resid)"
   ]
  },
  {
   "cell_type": "code",
   "execution_count": 32,
   "id": "37d25c33",
   "metadata": {},
   "outputs": [
    {
     "data": {
      "text/html": [
       "<div>\n",
       "<style scoped>\n",
       "    .dataframe tbody tr th:only-of-type {\n",
       "        vertical-align: middle;\n",
       "    }\n",
       "\n",
       "    .dataframe tbody tr th {\n",
       "        vertical-align: top;\n",
       "    }\n",
       "\n",
       "    .dataframe thead th {\n",
       "        text-align: right;\n",
       "    }\n",
       "</style>\n",
       "<table border=\"1\" class=\"dataframe\">\n",
       "  <thead>\n",
       "    <tr style=\"text-align: right;\">\n",
       "      <th></th>\n",
       "      <th>VIF Factor</th>\n",
       "      <th>Feature</th>\n",
       "    </tr>\n",
       "  </thead>\n",
       "  <tbody>\n",
       "    <tr>\n",
       "      <th>0</th>\n",
       "      <td>1.73</td>\n",
       "      <td>Intercept</td>\n",
       "    </tr>\n",
       "    <tr>\n",
       "      <th>1</th>\n",
       "      <td>2.81</td>\n",
       "      <td>Ado_Dropped</td>\n",
       "    </tr>\n",
       "    <tr>\n",
       "      <th>2</th>\n",
       "      <td>2.30</td>\n",
       "      <td>Intentional_Homicide_log</td>\n",
       "    </tr>\n",
       "    <tr>\n",
       "      <th>3</th>\n",
       "      <td>4.63</td>\n",
       "      <td>Ado_Dropped:Intentional_Homicide_log</td>\n",
       "    </tr>\n",
       "  </tbody>\n",
       "</table>\n",
       "</div>"
      ],
      "text/plain": [
       "   VIF Factor                               Feature\n",
       "0        1.73                             Intercept\n",
       "1        2.81                           Ado_Dropped\n",
       "2        2.30              Intentional_Homicide_log\n",
       "3        4.63  Ado_Dropped:Intentional_Homicide_log"
      ]
     },
     "execution_count": 32,
     "metadata": {},
     "output_type": "execute_result"
    }
   ],
   "source": [
    "y, X = dmatrices(\"Social_support ~ Ado_Dropped*Intentional_Homicide_log\",\n",
    "                 data_transformed_Nas_2017, return_type='dataframe')\n",
    "\n",
    "vif = pd.DataFrame()\n",
    "vif[\"VIF Factor\"] = [variance_inflation_factor(X.values, i) for i in range(X.shape[1])]\n",
    "vif[\"Feature\"] = X.columns\n",
    "\n",
    "vif.round(2)"
   ]
  },
  {
   "cell_type": "markdown",
   "id": "c4b96659",
   "metadata": {},
   "source": [
    "## Model 2018"
   ]
  },
  {
   "cell_type": "code",
   "execution_count": 33,
   "id": "1e8e87a3",
   "metadata": {
    "scrolled": true
   },
   "outputs": [
    {
     "name": "stdout",
     "output_type": "stream",
     "text": [
      "                            OLS Regression Results                            \n",
      "==============================================================================\n",
      "Dep. Variable:         Social_support   R-squared:                       0.156\n",
      "Model:                            OLS   Adj. R-squared:                  0.090\n",
      "Method:                 Least Squares   F-statistic:                     2.344\n",
      "Date:                Wed, 20 Sep 2023   Prob (F-statistic):             0.0884\n",
      "Time:                        09:02:50   Log-Likelihood:                 48.844\n",
      "No. Observations:                  42   AIC:                            -89.69\n",
      "Df Residuals:                      38   BIC:                            -82.74\n",
      "Df Model:                           3                                         \n",
      "Covariance Type:            nonrobust                                         \n",
      "========================================================================================================\n",
      "                                           coef    std err          t      P>|t|      [0.025      0.975]\n",
      "--------------------------------------------------------------------------------------------------------\n",
      "Intercept                                0.9016      0.017     53.205      0.000       0.867       0.936\n",
      "Ado_Dropped                             -0.0079      0.004     -1.913      0.063      -0.016       0.000\n",
      "Intentional_Homicide_log                -0.0221      0.013     -1.727      0.092      -0.048       0.004\n",
      "Ado_Dropped:Intentional_Homicide_log     0.0022      0.001      1.711      0.095      -0.000       0.005\n",
      "==============================================================================\n",
      "Omnibus:                       24.770   Durbin-Watson:                   1.897\n",
      "Prob(Omnibus):                  0.000   Jarque-Bera (JB):               39.945\n",
      "Skew:                          -1.752   Prob(JB):                     2.12e-09\n",
      "Kurtosis:                       6.247   Cond. No.                         36.4\n",
      "==============================================================================\n",
      "\n",
      "Notes:\n",
      "[1] Standard Errors assume that the covariance matrix of the errors is correctly specified.\n"
     ]
    }
   ],
   "source": [
    "lm_all_fix_2018 = ols(\"Social_support ~ Ado_Dropped*Intentional_Homicide_log\", \n",
    "                        data = data_transformed_Nas_2018).fit()\n",
    "\n",
    "print(lm_all_fix_2018.summary())"
   ]
  },
  {
   "cell_type": "code",
   "execution_count": 34,
   "id": "ef09d237",
   "metadata": {},
   "outputs": [
    {
     "name": "stdout",
     "output_type": "stream",
     "text": [
      "Number of outliers: 3\n"
     ]
    }
   ],
   "source": [
    "lm_cooksd = lm_all_fix_2018.get_influence().cooks_distance[0]\n",
    "\n",
    "n = len(data_transformed_Nas_2018[\"Social_support\"])\n",
    "\n",
    "critical_d = 4/n\n",
    "\n",
    "out_d = lm_cooksd > critical_d\n",
    "\n",
    "print(\"Number of outliers:\", len(data_transformed_Nas_2018.index[out_d]))"
   ]
  },
  {
   "cell_type": "code",
   "execution_count": 73,
   "id": "ec92b4ae",
   "metadata": {},
   "outputs": [
    {
     "data": {
      "image/png": "[encoded data removed]",
      "text/plain": [
       "<Figure size 1152x576 with 4 Axes>"
      ]
     },
     "metadata": {
      "needs_background": "light"
     },
     "output_type": "display_data"
    }
   ],
   "source": [
    "fig = sm.graphics.plot_partregress_grid(lm_all_fix_2018)\n",
    "fig.tight_layout(pad=1.0)"
   ]
  },
  {
   "cell_type": "code",
   "execution_count": 35,
   "id": "70e47bb5",
   "metadata": {},
   "outputs": [
    {
     "data": {
      "text/plain": [
       "[('Lagrange multiplier statistic', 0.9679306554703075),\n",
       " ('p-value', 0.8090111235653861)]"
      ]
     },
     "execution_count": 35,
     "metadata": {},
     "output_type": "execute_result"
    }
   ],
   "source": [
    "name = ['Lagrange multiplier statistic', 'p-value']\n",
    "test = sm.stats.het_breuschpagan(lm_all_fix_2015.resid, lm_all_fix_2015.model.exog)\n",
    "lzip(name, test)"
   ]
  },
  {
   "cell_type": "code",
   "execution_count": 36,
   "id": "37dc2049",
   "metadata": {},
   "outputs": [
    {
     "data": {
      "text/plain": [
       "1.8966483319827878"
      ]
     },
     "execution_count": 36,
     "metadata": {},
     "output_type": "execute_result"
    }
   ],
   "source": [
    "sm.stats.durbin_watson(lm_all_fix_2018.resid)"
   ]
  },
  {
   "cell_type": "code",
   "execution_count": 37,
   "id": "e15d7ee7",
   "metadata": {},
   "outputs": [
    {
     "data": {
      "text/html": [
       "<div>\n",
       "<style scoped>\n",
       "    .dataframe tbody tr th:only-of-type {\n",
       "        vertical-align: middle;\n",
       "    }\n",
       "\n",
       "    .dataframe tbody tr th {\n",
       "        vertical-align: top;\n",
       "    }\n",
       "\n",
       "    .dataframe thead th {\n",
       "        text-align: right;\n",
       "    }\n",
       "</style>\n",
       "<table border=\"1\" class=\"dataframe\">\n",
       "  <thead>\n",
       "    <tr style=\"text-align: right;\">\n",
       "      <th></th>\n",
       "      <th>VIF Factor</th>\n",
       "      <th>Feature</th>\n",
       "    </tr>\n",
       "  </thead>\n",
       "  <tbody>\n",
       "    <tr>\n",
       "      <th>0</th>\n",
       "      <td>1.91</td>\n",
       "      <td>Intercept</td>\n",
       "    </tr>\n",
       "    <tr>\n",
       "      <th>1</th>\n",
       "      <td>5.13</td>\n",
       "      <td>Ado_Dropped</td>\n",
       "    </tr>\n",
       "    <tr>\n",
       "      <th>2</th>\n",
       "      <td>1.60</td>\n",
       "      <td>Intentional_Homicide_log</td>\n",
       "    </tr>\n",
       "    <tr>\n",
       "      <th>3</th>\n",
       "      <td>6.03</td>\n",
       "      <td>Ado_Dropped:Intentional_Homicide_log</td>\n",
       "    </tr>\n",
       "  </tbody>\n",
       "</table>\n",
       "</div>"
      ],
      "text/plain": [
       "   VIF Factor                               Feature\n",
       "0        1.91                             Intercept\n",
       "1        5.13                           Ado_Dropped\n",
       "2        1.60              Intentional_Homicide_log\n",
       "3        6.03  Ado_Dropped:Intentional_Homicide_log"
      ]
     },
     "execution_count": 37,
     "metadata": {},
     "output_type": "execute_result"
    }
   ],
   "source": [
    "y, X = dmatrices(\"Social_support ~ Ado_Dropped*Intentional_Homicide_log\",\n",
    "                 data_transformed_Nas_2018, return_type='dataframe')\n",
    "\n",
    "vif = pd.DataFrame()\n",
    "vif[\"VIF Factor\"] = [variance_inflation_factor(X.values, i) for i in range(X.shape[1])]\n",
    "vif[\"Feature\"] = X.columns\n",
    "\n",
    "vif.round(2)"
   ]
  },
  {
   "cell_type": "markdown",
   "id": "a05b85a6",
   "metadata": {},
   "source": [
    "## Predicting start"
   ]
  },
  {
   "cell_type": "code",
   "execution_count": 38,
   "id": "19195305",
   "metadata": {},
   "outputs": [],
   "source": [
    "predictions_2015 = lm_all_fix_2015.predict(data_transformed_Nas_2019) \n",
    "predictions_2016 = lm_all_fix_2016.predict(data_transformed_Nas_2019) \n",
    "predictions_2017 = lm_all_fix_2017.predict(data_transformed_Nas_2019) \n",
    "predictions_2018 = lm_all_fix_2018.predict(data_transformed_Nas_2019) "
   ]
  },
  {
   "cell_type": "code",
   "execution_count": 39,
   "id": "ce549ffc",
   "metadata": {},
   "outputs": [],
   "source": [
    "data_transformed_Nas_2019[\"Predictions_2015\"] = predictions_2015\n",
    "data_transformed_Nas_2019[\"Predictions_2016\"] = predictions_2016\n",
    "data_transformed_Nas_2019[\"Predictions_2017\"] = predictions_2017\n",
    "data_transformed_Nas_2019[\"Predictions_2018\"] = predictions_2018"
   ]
  },
  {
   "cell_type": "code",
   "execution_count": 40,
   "id": "0aeb0a6c",
   "metadata": {},
   "outputs": [],
   "source": [
    "data_transformed_Nas_2019[\"Predictions_Estimate\"] = (data_transformed_Nas_2019[\"Predictions_2015\"] +\n",
    "                                                     data_transformed_Nas_2019[\"Predictions_2016\"] + \n",
    "                                                     data_transformed_Nas_2019[\"Predictions_2017\"] + \n",
    "                                                     data_transformed_Nas_2019[\"Predictions_2018\"]) / 4"
   ]
  },
  {
   "cell_type": "code",
   "execution_count": 41,
   "id": "023005cc",
   "metadata": {},
   "outputs": [
    {
     "data": {
      "text/plain": [
       "0.0859509129353695"
      ]
     },
     "execution_count": 41,
     "metadata": {},
     "output_type": "execute_result"
    }
   ],
   "source": [
    "## 2015\n",
    "\n",
    "SS_RES = sum((data_transformed_Nas_2019[\"Social_support\"] - \n",
    "         data_transformed_Nas_2019[\"Predictions_2015\"])**2)\n",
    "\n",
    "SS_TOT = sum((data_transformed_Nas_2019[\"Social_support\"] - \n",
    "         np.mean(data_transformed_Nas_2019[\"Social_support\"]))**2)\n",
    "\n",
    "1 - (SS_RES / SS_TOT)"
   ]
  },
  {
   "cell_type": "code",
   "execution_count": 42,
   "id": "5673578e",
   "metadata": {},
   "outputs": [
    {
     "data": {
      "text/plain": [
       "-0.30451348000755907"
      ]
     },
     "execution_count": 42,
     "metadata": {},
     "output_type": "execute_result"
    }
   ],
   "source": [
    "## 2016\n",
    "\n",
    "SS_RES = sum((data_transformed_Nas_2019[\"Social_support\"] - \n",
    "         data_transformed_Nas_2019[\"Predictions_2016\"])**2)\n",
    "\n",
    "SS_TOT = sum((data_transformed_Nas_2019[\"Social_support\"] - \n",
    "         np.mean(data_transformed_Nas_2019[\"Social_support\"]))**2)\n",
    "\n",
    "1 - (SS_RES / SS_TOT)"
   ]
  },
  {
   "cell_type": "code",
   "execution_count": 43,
   "id": "8ccfb8b2",
   "metadata": {},
   "outputs": [
    {
     "data": {
      "text/plain": [
       "-0.2204308631421521"
      ]
     },
     "execution_count": 43,
     "metadata": {},
     "output_type": "execute_result"
    }
   ],
   "source": [
    "## 2017\n",
    "\n",
    "SS_RES = sum((data_transformed_Nas_2019[\"Social_support\"] - \n",
    "         data_transformed_Nas_2019[\"Predictions_2017\"])**2)\n",
    "\n",
    "SS_TOT = sum((data_transformed_Nas_2019[\"Social_support\"] - \n",
    "         np.mean(data_transformed_Nas_2019[\"Social_support\"]))**2)\n",
    "\n",
    "1 - (SS_RES / SS_TOT)"
   ]
  },
  {
   "cell_type": "code",
   "execution_count": 44,
   "id": "bdc59c7f",
   "metadata": {},
   "outputs": [
    {
     "data": {
      "text/plain": [
       "0.13067422006177598"
      ]
     },
     "execution_count": 44,
     "metadata": {},
     "output_type": "execute_result"
    }
   ],
   "source": [
    "## 2018\n",
    "\n",
    "SS_RES = sum((data_transformed_Nas_2019[\"Social_support\"] - \n",
    "         data_transformed_Nas_2019[\"Predictions_2018\"])**2)\n",
    "\n",
    "SS_TOT = sum((data_transformed_Nas_2019[\"Social_support\"] - \n",
    "         np.mean(data_transformed_Nas_2019[\"Social_support\"]))**2)\n",
    "\n",
    "1 - (SS_RES / SS_TOT)"
   ]
  },
  {
   "cell_type": "code",
   "execution_count": 45,
   "id": "edff0c2d",
   "metadata": {},
   "outputs": [
    {
     "data": {
      "text/plain": [
       "-0.00955614316792297"
      ]
     },
     "execution_count": 45,
     "metadata": {},
     "output_type": "execute_result"
    }
   ],
   "source": [
    "## Estimate\n",
    "\n",
    "SS_RES = sum((data_transformed_Nas_2019[\"Social_support\"] - \n",
    "         data_transformed_Nas_2019[\"Predictions_Estimate\"])**2)\n",
    "\n",
    "SS_TOT = sum((data_transformed_Nas_2019[\"Social_support\"] - \n",
    "         np.mean(data_transformed_Nas_2019[\"Social_support\"]))**2)\n",
    "\n",
    "1 - (SS_RES / SS_TOT)"
   ]
  },
  {
   "cell_type": "code",
   "execution_count": 74,
   "id": "1619584d",
   "metadata": {},
   "outputs": [
    {
     "data": {
      "image/png": "[encoded data removed]",
      "text/plain": [
       "<Figure size 1152x576 with 1 Axes>"
      ]
     },
     "metadata": {
      "needs_background": "light"
     },
     "output_type": "display_data"
    }
   ],
   "source": [
    "ax1 = sns.scatterplot(\n",
    "                 data = data_transformed_Nas_2019,\n",
    "                    y = \"Social_support\", \n",
    "                    x = \"Predictions_2015\")\n",
    "\n",
    "ax2 = sns.scatterplot( \n",
    "                 data = data_transformed_Nas_2019,\n",
    "                    y = \"Social_support\", \n",
    "                    x = \"Predictions_2016\")\n",
    "\n",
    "ax3 = sns.scatterplot( \n",
    "                 data = data_transformed_Nas_2019,\n",
    "                    y = \"Social_support\", \n",
    "                    x = \"Predictions_2017\")\n",
    "\n",
    "\n",
    "ax4 = sns.scatterplot( \n",
    "                 data = data_transformed_Nas_2019,\n",
    "                    y = \"Social_support\", \n",
    "                    x = \"Predictions_2018\")\n",
    "\n",
    "\n",
    "ax5 = sns.scatterplot( \n",
    "                 data = data_transformed_Nas_2019,\n",
    "                    y = \"Social_support\", \n",
    "                    x = \"Predictions_Estimate\")\n",
    "\n",
    "plt.legend(labels = ['Predictions_2015', \n",
    "                     'Predictions_2016', \n",
    "                     'Predictions_2017', \n",
    "                     'Predictions_2018', \n",
    "                     'Predictions_Estimate'])\n",
    "\n",
    "ax1.set_ylabel(\"True Social_support\", fontsize = 14)\n",
    "ax1.set_xlabel(\"Predicted Social_support\", fontsize = 14)\n",
    "\n",
    "ax1.set_title(\"Calibration Plot for All Continents\", fontsize = 16)\n",
    "\n",
    "#plt.savefig('ax1.png')"
   ]
  },
  {
   "cell_type": "code",
   "execution_count": null,
   "id": "389fcfbb",
   "metadata": {},
   "outputs": [],
   "source": []
  }
 ],
 "metadata": {
  "kernelspec": {
   "display_name": "Python 3 (ipykernel)",
   "language": "python",
   "name": "python3"
  },
  "language_info": {
   "codemirror_mode": {
    "name": "ipython",
    "version": 3
   },
   "file_extension": ".py",
   "mimetype": "text/x-python",
   "name": "python",
   "nbconvert_exporter": "python",
   "pygments_lexer": "ipython3",
   "version": "3.9.7"
  }
 },
 "nbformat": 4,
 "nbformat_minor": 5
}
