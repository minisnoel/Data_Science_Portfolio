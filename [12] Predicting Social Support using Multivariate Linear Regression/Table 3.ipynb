{
 "cells": [
  {
   "cell_type": "code",
   "execution_count": 1,
   "id": "16c2dc98",
   "metadata": {},
   "outputs": [
    {
     "name": "stderr",
     "output_type": "stream",
     "text": [
      "C:\\Users\\schoo\\anaconda3\\lib\\site-packages\\statsmodels\\tsa\\base\\tsa_model.py:7: FutureWarning: pandas.Int64Index is deprecated and will be removed from pandas in a future version. Use pandas.Index with the appropriate dtype instead.\n",
      "  from pandas import (to_datetime, Int64Index, DatetimeIndex, Period,\n",
      "C:\\Users\\schoo\\anaconda3\\lib\\site-packages\\statsmodels\\tsa\\base\\tsa_model.py:7: FutureWarning: pandas.Float64Index is deprecated and will be removed from pandas in a future version. Use pandas.Index with the appropriate dtype instead.\n",
      "  from pandas import (to_datetime, Int64Index, DatetimeIndex, Period,\n"
     ]
    }
   ],
   "source": [
    "## Data frame \n",
    "import pandas as pd\n",
    "\n",
    "import numpy as np\n",
    "from patsy import dmatrices\n",
    "\n",
    "from statsmodels.compat import lzip\n",
    "import statsmodels.api as sm\n",
    "from statsmodels.formula.api import ols\n",
    "from statsmodels.stats.outliers_influence import variance_inflation_factor\n",
    "from statsmodels.regression.linear_model import OLSResults\n",
    "\n",
    "import matplotlib.pyplot as plt\n",
    "import seaborn as sns\n",
    "\n",
    "from sklearn.linear_model import LinearRegression\n",
    "from vecstack import stacking\n",
    "\n",
    "%matplotlib inline\n",
    "plt.rc(\"figure\", figsize=(16, 8))\n",
    "plt.rc(\"font\", size=14)\n"
   ]
  },
  {
   "cell_type": "markdown",
   "id": "1fca1a1f",
   "metadata": {},
   "source": [
    "## Read in the Data "
   ]
  },
  {
   "cell_type": "code",
   "execution_count": 2,
   "id": "5c807ae4",
   "metadata": {},
   "outputs": [],
   "source": [
    "main_df = pd.read_excel(\"main_data.xlsx\")"
   ]
  },
  {
   "cell_type": "code",
   "execution_count": 3,
   "id": "da024179",
   "metadata": {
    "scrolled": true
   },
   "outputs": [
    {
     "data": {
      "text/html": [
       "<div>\n",
       "<style scoped>\n",
       "    .dataframe tbody tr th:only-of-type {\n",
       "        vertical-align: middle;\n",
       "    }\n",
       "\n",
       "    .dataframe tbody tr th {\n",
       "        vertical-align: top;\n",
       "    }\n",
       "\n",
       "    .dataframe thead th {\n",
       "        text-align: right;\n",
       "    }\n",
       "</style>\n",
       "<table border=\"1\" class=\"dataframe\">\n",
       "  <thead>\n",
       "    <tr style=\"text-align: right;\">\n",
       "      <th></th>\n",
       "      <th>Country Name</th>\n",
       "      <th>year</th>\n",
       "      <th>Continent</th>\n",
       "      <th>Social_support</th>\n",
       "      <th>Intentional_Homicide</th>\n",
       "      <th>Graduation_Ratio</th>\n",
       "      <th>Ado_Dropped</th>\n",
       "    </tr>\n",
       "  </thead>\n",
       "  <tbody>\n",
       "    <tr>\n",
       "      <th>0</th>\n",
       "      <td>Afghanistan</td>\n",
       "      <td>2008</td>\n",
       "      <td>Asia</td>\n",
       "      <td>0.450662</td>\n",
       "      <td>NaN</td>\n",
       "      <td>NaN</td>\n",
       "      <td>NaN</td>\n",
       "    </tr>\n",
       "    <tr>\n",
       "      <th>1</th>\n",
       "      <td>Afghanistan</td>\n",
       "      <td>2009</td>\n",
       "      <td>Asia</td>\n",
       "      <td>0.552308</td>\n",
       "      <td>NaN</td>\n",
       "      <td>NaN</td>\n",
       "      <td>NaN</td>\n",
       "    </tr>\n",
       "  </tbody>\n",
       "</table>\n",
       "</div>"
      ],
      "text/plain": [
       "  Country Name  year Continent  Social_support  Intentional_Homicide  \\\n",
       "0  Afghanistan  2008      Asia        0.450662                   NaN   \n",
       "1  Afghanistan  2009      Asia        0.552308                   NaN   \n",
       "\n",
       "   Graduation_Ratio  Ado_Dropped  \n",
       "0               NaN          NaN  \n",
       "1               NaN          NaN  "
      ]
     },
     "execution_count": 3,
     "metadata": {},
     "output_type": "execute_result"
    }
   ],
   "source": [
    "main_df = main_df.drop(columns = \"Unnamed: 0\")\n",
    "main_df.head(2)"
   ]
  },
  {
   "cell_type": "code",
   "execution_count": 4,
   "id": "3c4b4544",
   "metadata": {},
   "outputs": [
    {
     "data": {
      "text/html": [
       "<div>\n",
       "<style scoped>\n",
       "    .dataframe tbody tr th:only-of-type {\n",
       "        vertical-align: middle;\n",
       "    }\n",
       "\n",
       "    .dataframe tbody tr th {\n",
       "        vertical-align: top;\n",
       "    }\n",
       "\n",
       "    .dataframe thead th {\n",
       "        text-align: right;\n",
       "    }\n",
       "</style>\n",
       "<table border=\"1\" class=\"dataframe\">\n",
       "  <thead>\n",
       "    <tr style=\"text-align: right;\">\n",
       "      <th></th>\n",
       "      <th>Country Name</th>\n",
       "      <th>year</th>\n",
       "      <th>Continent</th>\n",
       "      <th>Social_support</th>\n",
       "      <th>Intentional_Homicide</th>\n",
       "      <th>Graduation_Ratio</th>\n",
       "      <th>Ado_Dropped</th>\n",
       "    </tr>\n",
       "  </thead>\n",
       "  <tbody>\n",
       "    <tr>\n",
       "      <th>0</th>\n",
       "      <td>Afghanistan</td>\n",
       "      <td>2008</td>\n",
       "      <td>Asia</td>\n",
       "      <td>0.450662</td>\n",
       "      <td>NaN</td>\n",
       "      <td>NaN</td>\n",
       "      <td>NaN</td>\n",
       "    </tr>\n",
       "    <tr>\n",
       "      <th>1</th>\n",
       "      <td>Afghanistan</td>\n",
       "      <td>2009</td>\n",
       "      <td>Asia</td>\n",
       "      <td>0.552308</td>\n",
       "      <td>NaN</td>\n",
       "      <td>NaN</td>\n",
       "      <td>NaN</td>\n",
       "    </tr>\n",
       "    <tr>\n",
       "      <th>2</th>\n",
       "      <td>Afghanistan</td>\n",
       "      <td>2010</td>\n",
       "      <td>Asia</td>\n",
       "      <td>0.539075</td>\n",
       "      <td>NaN</td>\n",
       "      <td>NaN</td>\n",
       "      <td>NaN</td>\n",
       "    </tr>\n",
       "    <tr>\n",
       "      <th>3</th>\n",
       "      <td>Afghanistan</td>\n",
       "      <td>2011</td>\n",
       "      <td>Asia</td>\n",
       "      <td>0.521104</td>\n",
       "      <td>NaN</td>\n",
       "      <td>NaN</td>\n",
       "      <td>NaN</td>\n",
       "    </tr>\n",
       "  </tbody>\n",
       "</table>\n",
       "</div>"
      ],
      "text/plain": [
       "  Country Name  year Continent  Social_support  Intentional_Homicide  \\\n",
       "0  Afghanistan  2008      Asia        0.450662                   NaN   \n",
       "1  Afghanistan  2009      Asia        0.552308                   NaN   \n",
       "2  Afghanistan  2010      Asia        0.539075                   NaN   \n",
       "3  Afghanistan  2011      Asia        0.521104                   NaN   \n",
       "\n",
       "   Graduation_Ratio  Ado_Dropped  \n",
       "0               NaN          NaN  \n",
       "1               NaN          NaN  \n",
       "2               NaN          NaN  \n",
       "3               NaN          NaN  "
      ]
     },
     "execution_count": 4,
     "metadata": {},
     "output_type": "execute_result"
    }
   ],
   "source": [
    "main_df = main_df.rename(columns ={\"Social support\":\"Social_support\"})\n",
    "main_df.head(4)"
   ]
  },
  {
   "cell_type": "code",
   "execution_count": 5,
   "id": "e3152bec",
   "metadata": {},
   "outputs": [
    {
     "data": {
      "text/html": [
       "<div>\n",
       "<style scoped>\n",
       "    .dataframe tbody tr th:only-of-type {\n",
       "        vertical-align: middle;\n",
       "    }\n",
       "\n",
       "    .dataframe tbody tr th {\n",
       "        vertical-align: top;\n",
       "    }\n",
       "\n",
       "    .dataframe thead th {\n",
       "        text-align: right;\n",
       "    }\n",
       "</style>\n",
       "<table border=\"1\" class=\"dataframe\">\n",
       "  <thead>\n",
       "    <tr style=\"text-align: right;\">\n",
       "      <th></th>\n",
       "      <th>Country Name</th>\n",
       "      <th>year</th>\n",
       "      <th>Continent</th>\n",
       "      <th>Social_support</th>\n",
       "      <th>Intentional_Homicide</th>\n",
       "      <th>Graduation_Ratio</th>\n",
       "      <th>Ado_Dropped</th>\n",
       "    </tr>\n",
       "  </thead>\n",
       "  <tbody>\n",
       "    <tr>\n",
       "      <th>7</th>\n",
       "      <td>Afghanistan</td>\n",
       "      <td>2015</td>\n",
       "      <td>Asia</td>\n",
       "      <td>0.528597</td>\n",
       "      <td>9.975262</td>\n",
       "      <td>NaN</td>\n",
       "      <td>NaN</td>\n",
       "    </tr>\n",
       "    <tr>\n",
       "      <th>8</th>\n",
       "      <td>Afghanistan</td>\n",
       "      <td>2016</td>\n",
       "      <td>Asia</td>\n",
       "      <td>0.559072</td>\n",
       "      <td>6.692419</td>\n",
       "      <td>NaN</td>\n",
       "      <td>NaN</td>\n",
       "    </tr>\n",
       "    <tr>\n",
       "      <th>9</th>\n",
       "      <td>Afghanistan</td>\n",
       "      <td>2017</td>\n",
       "      <td>Asia</td>\n",
       "      <td>0.490880</td>\n",
       "      <td>6.800695</td>\n",
       "      <td>NaN</td>\n",
       "      <td>NaN</td>\n",
       "    </tr>\n",
       "    <tr>\n",
       "      <th>10</th>\n",
       "      <td>Afghanistan</td>\n",
       "      <td>2018</td>\n",
       "      <td>Asia</td>\n",
       "      <td>0.507516</td>\n",
       "      <td>6.743573</td>\n",
       "      <td>9.7769</td>\n",
       "      <td>NaN</td>\n",
       "    </tr>\n",
       "    <tr>\n",
       "      <th>11</th>\n",
       "      <td>Afghanistan</td>\n",
       "      <td>2019</td>\n",
       "      <td>Asia</td>\n",
       "      <td>0.419973</td>\n",
       "      <td>7.180397</td>\n",
       "      <td>NaN</td>\n",
       "      <td>NaN</td>\n",
       "    </tr>\n",
       "  </tbody>\n",
       "</table>\n",
       "</div>"
      ],
      "text/plain": [
       "   Country Name  year Continent  Social_support  Intentional_Homicide  \\\n",
       "7   Afghanistan  2015      Asia        0.528597              9.975262   \n",
       "8   Afghanistan  2016      Asia        0.559072              6.692419   \n",
       "9   Afghanistan  2017      Asia        0.490880              6.800695   \n",
       "10  Afghanistan  2018      Asia        0.507516              6.743573   \n",
       "11  Afghanistan  2019      Asia        0.419973              7.180397   \n",
       "\n",
       "    Graduation_Ratio  Ado_Dropped  \n",
       "7                NaN          NaN  \n",
       "8                NaN          NaN  \n",
       "9                NaN          NaN  \n",
       "10            9.7769          NaN  \n",
       "11               NaN          NaN  "
      ]
     },
     "execution_count": 5,
     "metadata": {},
     "output_type": "execute_result"
    }
   ],
   "source": [
    "main_df = main_df[main_df[\"year\"].isin([2015,2016,2017,2018,2019])]\n",
    "main_df.head(5)"
   ]
  },
  {
   "cell_type": "code",
   "execution_count": 6,
   "id": "ec2a29ad",
   "metadata": {},
   "outputs": [],
   "source": [
    "main_df = main_df.reset_index(drop = True)"
   ]
  },
  {
   "cell_type": "code",
   "execution_count": 7,
   "id": "ee87f4e4",
   "metadata": {},
   "outputs": [
    {
     "data": {
      "text/html": [
       "<div>\n",
       "<style scoped>\n",
       "    .dataframe tbody tr th:only-of-type {\n",
       "        vertical-align: middle;\n",
       "    }\n",
       "\n",
       "    .dataframe tbody tr th {\n",
       "        vertical-align: top;\n",
       "    }\n",
       "\n",
       "    .dataframe thead th {\n",
       "        text-align: right;\n",
       "    }\n",
       "</style>\n",
       "<table border=\"1\" class=\"dataframe\">\n",
       "  <thead>\n",
       "    <tr style=\"text-align: right;\">\n",
       "      <th></th>\n",
       "      <th>Country Name</th>\n",
       "      <th>year</th>\n",
       "      <th>Continent</th>\n",
       "      <th>Social_support</th>\n",
       "      <th>Intentional_Homicide</th>\n",
       "      <th>Graduation_Ratio</th>\n",
       "      <th>Ado_Dropped</th>\n",
       "    </tr>\n",
       "  </thead>\n",
       "  <tbody>\n",
       "    <tr>\n",
       "      <th>0</th>\n",
       "      <td>Afghanistan</td>\n",
       "      <td>2015</td>\n",
       "      <td>Asia</td>\n",
       "      <td>0.528597</td>\n",
       "      <td>9.975262</td>\n",
       "      <td>NaN</td>\n",
       "      <td>NaN</td>\n",
       "    </tr>\n",
       "    <tr>\n",
       "      <th>1</th>\n",
       "      <td>Afghanistan</td>\n",
       "      <td>2016</td>\n",
       "      <td>Asia</td>\n",
       "      <td>0.559072</td>\n",
       "      <td>6.692419</td>\n",
       "      <td>NaN</td>\n",
       "      <td>NaN</td>\n",
       "    </tr>\n",
       "  </tbody>\n",
       "</table>\n",
       "</div>"
      ],
      "text/plain": [
       "  Country Name  year Continent  Social_support  Intentional_Homicide  \\\n",
       "0  Afghanistan  2015      Asia        0.528597              9.975262   \n",
       "1  Afghanistan  2016      Asia        0.559072              6.692419   \n",
       "\n",
       "   Graduation_Ratio  Ado_Dropped  \n",
       "0               NaN          NaN  \n",
       "1               NaN          NaN  "
      ]
     },
     "execution_count": 7,
     "metadata": {},
     "output_type": "execute_result"
    }
   ],
   "source": [
    "main_df.head(2)"
   ]
  },
  {
   "cell_type": "markdown",
   "id": "329252ad",
   "metadata": {},
   "source": [
    "## Take out Europe"
   ]
  },
  {
   "cell_type": "code",
   "execution_count": 8,
   "id": "7cb0468c",
   "metadata": {},
   "outputs": [],
   "source": [
    "european_countries = [main_df[main_df[\"Continent\"] == \"Europe\"][\"Country Name\"].unique().tolist()]"
   ]
  },
  {
   "cell_type": "code",
   "execution_count": 9,
   "id": "6abb56eb",
   "metadata": {},
   "outputs": [],
   "source": [
    "european_countries.append([\"Canada\", \"United States\", \"Australia\", \"New Zealand\"])"
   ]
  },
  {
   "cell_type": "code",
   "execution_count": 10,
   "id": "82a3dba1",
   "metadata": {},
   "outputs": [],
   "source": [
    "european_countries = sum(european_countries, [])"
   ]
  },
  {
   "cell_type": "code",
   "execution_count": 11,
   "id": "7e1c1508",
   "metadata": {},
   "outputs": [],
   "source": [
    "eur_df = main_df[main_df[\"Country Name\"].isin(european_countries)]"
   ]
  },
  {
   "cell_type": "code",
   "execution_count": 12,
   "id": "1ffb2d19",
   "metadata": {},
   "outputs": [
    {
     "data": {
      "text/html": [
       "<div>\n",
       "<style scoped>\n",
       "    .dataframe tbody tr th:only-of-type {\n",
       "        vertical-align: middle;\n",
       "    }\n",
       "\n",
       "    .dataframe tbody tr th {\n",
       "        vertical-align: top;\n",
       "    }\n",
       "\n",
       "    .dataframe thead th {\n",
       "        text-align: right;\n",
       "    }\n",
       "</style>\n",
       "<table border=\"1\" class=\"dataframe\">\n",
       "  <thead>\n",
       "    <tr style=\"text-align: right;\">\n",
       "      <th></th>\n",
       "      <th>Country Name</th>\n",
       "      <th>year</th>\n",
       "      <th>Continent</th>\n",
       "      <th>Social_support</th>\n",
       "      <th>Intentional_Homicide</th>\n",
       "      <th>Graduation_Ratio</th>\n",
       "      <th>Ado_Dropped</th>\n",
       "    </tr>\n",
       "  </thead>\n",
       "  <tbody>\n",
       "    <tr>\n",
       "      <th>0</th>\n",
       "      <td>Albania</td>\n",
       "      <td>2015</td>\n",
       "      <td>Europe</td>\n",
       "      <td>0.639356</td>\n",
       "      <td>2.220310</td>\n",
       "      <td>39.54295</td>\n",
       "      <td>3.05841</td>\n",
       "    </tr>\n",
       "    <tr>\n",
       "      <th>1</th>\n",
       "      <td>Albania</td>\n",
       "      <td>2016</td>\n",
       "      <td>Europe</td>\n",
       "      <td>0.638411</td>\n",
       "      <td>2.742043</td>\n",
       "      <td>38.87660</td>\n",
       "      <td>5.17389</td>\n",
       "    </tr>\n",
       "  </tbody>\n",
       "</table>\n",
       "</div>"
      ],
      "text/plain": [
       "  Country Name  year Continent  Social_support  Intentional_Homicide  \\\n",
       "0      Albania  2015    Europe        0.639356              2.220310   \n",
       "1      Albania  2016    Europe        0.638411              2.742043   \n",
       "\n",
       "   Graduation_Ratio  Ado_Dropped  \n",
       "0          39.54295      3.05841  \n",
       "1          38.87660      5.17389  "
      ]
     },
     "execution_count": 12,
     "metadata": {},
     "output_type": "execute_result"
    }
   ],
   "source": [
    "eur_df = eur_df.reset_index(drop = True)\n",
    "eur_df.head(2)"
   ]
  },
  {
   "cell_type": "markdown",
   "id": "0abcff93",
   "metadata": {},
   "source": [
    "## Transform and make smaller"
   ]
  },
  {
   "cell_type": "code",
   "execution_count": 13,
   "id": "86aec2df",
   "metadata": {},
   "outputs": [
    {
     "data": {
      "text/html": [
       "<div>\n",
       "<style scoped>\n",
       "    .dataframe tbody tr th:only-of-type {\n",
       "        vertical-align: middle;\n",
       "    }\n",
       "\n",
       "    .dataframe tbody tr th {\n",
       "        vertical-align: top;\n",
       "    }\n",
       "\n",
       "    .dataframe thead th {\n",
       "        text-align: right;\n",
       "    }\n",
       "</style>\n",
       "<table border=\"1\" class=\"dataframe\">\n",
       "  <thead>\n",
       "    <tr style=\"text-align: right;\">\n",
       "      <th></th>\n",
       "      <th>Country Name</th>\n",
       "      <th>year</th>\n",
       "      <th>Continent</th>\n",
       "      <th>Social_support</th>\n",
       "      <th>Intentional_Homicide</th>\n",
       "      <th>Graduation_Ratio</th>\n",
       "      <th>Ado_Dropped</th>\n",
       "      <th>Intentional_Homicide_log</th>\n",
       "    </tr>\n",
       "  </thead>\n",
       "  <tbody>\n",
       "    <tr>\n",
       "      <th>0</th>\n",
       "      <td>Albania</td>\n",
       "      <td>2015</td>\n",
       "      <td>Europe</td>\n",
       "      <td>0.639356</td>\n",
       "      <td>2.220310</td>\n",
       "      <td>39.54295</td>\n",
       "      <td>3.05841</td>\n",
       "      <td>0.797647</td>\n",
       "    </tr>\n",
       "    <tr>\n",
       "      <th>1</th>\n",
       "      <td>Albania</td>\n",
       "      <td>2016</td>\n",
       "      <td>Europe</td>\n",
       "      <td>0.638411</td>\n",
       "      <td>2.742043</td>\n",
       "      <td>38.87660</td>\n",
       "      <td>5.17389</td>\n",
       "      <td>1.008703</td>\n",
       "    </tr>\n",
       "    <tr>\n",
       "      <th>2</th>\n",
       "      <td>Albania</td>\n",
       "      <td>2017</td>\n",
       "      <td>Europe</td>\n",
       "      <td>0.637698</td>\n",
       "      <td>2.014340</td>\n",
       "      <td>43.55277</td>\n",
       "      <td>6.07264</td>\n",
       "      <td>0.700292</td>\n",
       "    </tr>\n",
       "    <tr>\n",
       "      <th>3</th>\n",
       "      <td>Albania</td>\n",
       "      <td>2018</td>\n",
       "      <td>Europe</td>\n",
       "      <td>0.683592</td>\n",
       "      <td>2.294046</td>\n",
       "      <td>45.24585</td>\n",
       "      <td>3.05680</td>\n",
       "      <td>0.830317</td>\n",
       "    </tr>\n",
       "    <tr>\n",
       "      <th>4</th>\n",
       "      <td>Albania</td>\n",
       "      <td>2019</td>\n",
       "      <td>Europe</td>\n",
       "      <td>0.686365</td>\n",
       "      <td>2.261748</td>\n",
       "      <td>44.58341</td>\n",
       "      <td>3.69733</td>\n",
       "      <td>0.816138</td>\n",
       "    </tr>\n",
       "  </tbody>\n",
       "</table>\n",
       "</div>"
      ],
      "text/plain": [
       "  Country Name  year Continent  Social_support  Intentional_Homicide  \\\n",
       "0      Albania  2015    Europe        0.639356              2.220310   \n",
       "1      Albania  2016    Europe        0.638411              2.742043   \n",
       "2      Albania  2017    Europe        0.637698              2.014340   \n",
       "3      Albania  2018    Europe        0.683592              2.294046   \n",
       "4      Albania  2019    Europe        0.686365              2.261748   \n",
       "\n",
       "   Graduation_Ratio  Ado_Dropped  Intentional_Homicide_log  \n",
       "0          39.54295      3.05841                  0.797647  \n",
       "1          38.87660      5.17389                  1.008703  \n",
       "2          43.55277      6.07264                  0.700292  \n",
       "3          45.24585      3.05680                  0.830317  \n",
       "4          44.58341      3.69733                  0.816138  "
      ]
     },
     "execution_count": 13,
     "metadata": {},
     "output_type": "execute_result"
    }
   ],
   "source": [
    "data_transformed = eur_df\n",
    "\n",
    "data_transformed[\"Intentional_Homicide_log\"] = np.log(data_transformed[\"Intentional_Homicide\"])\n",
    "\n",
    "data_transformed.head(5)"
   ]
  },
  {
   "cell_type": "code",
   "execution_count": 14,
   "id": "8fd5a6c5",
   "metadata": {},
   "outputs": [],
   "source": [
    "hom_mean = data_transformed[\"Intentional_Homicide_log\"].mean()\n",
    "grad_mean = data_transformed[\"Graduation_Ratio\"].mean()\n",
    "ado_mean = data_transformed[\"Ado_Dropped\"].mean()"
   ]
  },
  {
   "cell_type": "code",
   "execution_count": 15,
   "id": "34974443",
   "metadata": {},
   "outputs": [],
   "source": [
    "data_transformed_Nas = data_transformed"
   ]
  },
  {
   "cell_type": "code",
   "execution_count": 16,
   "id": "faad1c9f",
   "metadata": {},
   "outputs": [],
   "source": [
    "data_transformed_Nas[\"Intentional_Homicide_log\"] = data_transformed[\"Intentional_Homicide_log\"].fillna(hom_mean)\n",
    "data_transformed_Nas[\"Graduation_Ratio\"] = data_transformed[\"Graduation_Ratio\"].fillna(grad_mean)\n",
    "data_transformed_Nas[\"Ado_Dropped\"] = data_transformed[\"Ado_Dropped\"].fillna(ado_mean)"
   ]
  },
  {
   "cell_type": "code",
   "execution_count": 17,
   "id": "4e916c43",
   "metadata": {},
   "outputs": [
    {
     "data": {
      "text/plain": [
       "218"
      ]
     },
     "execution_count": 17,
     "metadata": {},
     "output_type": "execute_result"
    }
   ],
   "source": [
    "len(data_transformed_Nas)"
   ]
  },
  {
   "cell_type": "markdown",
   "id": "aaed1583",
   "metadata": {},
   "source": [
    "## Split into years"
   ]
  },
  {
   "cell_type": "code",
   "execution_count": 18,
   "id": "08fde825",
   "metadata": {},
   "outputs": [],
   "source": [
    "data_transformed_Nas_2015 = data_transformed_Nas[data_transformed[\"year\"] == 2015]\n",
    "data_transformed_Nas_2016 = data_transformed_Nas[data_transformed[\"year\"] == 2016]\n",
    "data_transformed_Nas_2017 = data_transformed_Nas[data_transformed[\"year\"] == 2017]\n",
    "data_transformed_Nas_2018 = data_transformed_Nas[data_transformed[\"year\"] == 2018]\n",
    "data_transformed_Nas_2019 = data_transformed_Nas[data_transformed[\"year\"] == 2019]"
   ]
  },
  {
   "cell_type": "code",
   "execution_count": 19,
   "id": "d940db6c",
   "metadata": {},
   "outputs": [
    {
     "data": {
      "text/html": [
       "<div>\n",
       "<style scoped>\n",
       "    .dataframe tbody tr th:only-of-type {\n",
       "        vertical-align: middle;\n",
       "    }\n",
       "\n",
       "    .dataframe tbody tr th {\n",
       "        vertical-align: top;\n",
       "    }\n",
       "\n",
       "    .dataframe thead th {\n",
       "        text-align: right;\n",
       "    }\n",
       "</style>\n",
       "<table border=\"1\" class=\"dataframe\">\n",
       "  <thead>\n",
       "    <tr style=\"text-align: right;\">\n",
       "      <th></th>\n",
       "      <th>Country Name</th>\n",
       "      <th>year</th>\n",
       "      <th>Continent</th>\n",
       "      <th>Social_support</th>\n",
       "      <th>Intentional_Homicide</th>\n",
       "      <th>Graduation_Ratio</th>\n",
       "      <th>Ado_Dropped</th>\n",
       "      <th>Intentional_Homicide_log</th>\n",
       "    </tr>\n",
       "  </thead>\n",
       "  <tbody>\n",
       "    <tr>\n",
       "      <th>0</th>\n",
       "      <td>Albania</td>\n",
       "      <td>2015</td>\n",
       "      <td>Europe</td>\n",
       "      <td>0.639356</td>\n",
       "      <td>2.220310</td>\n",
       "      <td>39.54295</td>\n",
       "      <td>3.05841</td>\n",
       "      <td>0.797647</td>\n",
       "    </tr>\n",
       "    <tr>\n",
       "      <th>1</th>\n",
       "      <td>Australia</td>\n",
       "      <td>2015</td>\n",
       "      <td>Oceania</td>\n",
       "      <td>0.951862</td>\n",
       "      <td>0.990754</td>\n",
       "      <td>58.92220</td>\n",
       "      <td>0.16973</td>\n",
       "      <td>-0.009289</td>\n",
       "    </tr>\n",
       "  </tbody>\n",
       "</table>\n",
       "</div>"
      ],
      "text/plain": [
       "  Country Name  year Continent  Social_support  Intentional_Homicide  \\\n",
       "0      Albania  2015    Europe        0.639356              2.220310   \n",
       "1    Australia  2015   Oceania        0.951862              0.990754   \n",
       "\n",
       "   Graduation_Ratio  Ado_Dropped  Intentional_Homicide_log  \n",
       "0          39.54295      3.05841                  0.797647  \n",
       "1          58.92220      0.16973                 -0.009289  "
      ]
     },
     "execution_count": 19,
     "metadata": {},
     "output_type": "execute_result"
    }
   ],
   "source": [
    "data_transformed_Nas_2015 = data_transformed_Nas_2015.reset_index(drop = True)\n",
    "data_transformed_Nas_2015.head(2)"
   ]
  },
  {
   "cell_type": "code",
   "execution_count": 20,
   "id": "f89e5a44",
   "metadata": {},
   "outputs": [
    {
     "data": {
      "text/html": [
       "<div>\n",
       "<style scoped>\n",
       "    .dataframe tbody tr th:only-of-type {\n",
       "        vertical-align: middle;\n",
       "    }\n",
       "\n",
       "    .dataframe tbody tr th {\n",
       "        vertical-align: top;\n",
       "    }\n",
       "\n",
       "    .dataframe thead th {\n",
       "        text-align: right;\n",
       "    }\n",
       "</style>\n",
       "<table border=\"1\" class=\"dataframe\">\n",
       "  <thead>\n",
       "    <tr style=\"text-align: right;\">\n",
       "      <th></th>\n",
       "      <th>Country Name</th>\n",
       "      <th>year</th>\n",
       "      <th>Continent</th>\n",
       "      <th>Social_support</th>\n",
       "      <th>Intentional_Homicide</th>\n",
       "      <th>Graduation_Ratio</th>\n",
       "      <th>Ado_Dropped</th>\n",
       "      <th>Intentional_Homicide_log</th>\n",
       "    </tr>\n",
       "  </thead>\n",
       "  <tbody>\n",
       "    <tr>\n",
       "      <th>0</th>\n",
       "      <td>Albania</td>\n",
       "      <td>2016</td>\n",
       "      <td>Europe</td>\n",
       "      <td>0.638411</td>\n",
       "      <td>2.742043</td>\n",
       "      <td>38.876600</td>\n",
       "      <td>5.17389</td>\n",
       "      <td>1.008703</td>\n",
       "    </tr>\n",
       "    <tr>\n",
       "      <th>1</th>\n",
       "      <td>Australia</td>\n",
       "      <td>2016</td>\n",
       "      <td>Oceania</td>\n",
       "      <td>0.942334</td>\n",
       "      <td>0.938183</td>\n",
       "      <td>44.046099</td>\n",
       "      <td>1.09826</td>\n",
       "      <td>-0.063810</td>\n",
       "    </tr>\n",
       "  </tbody>\n",
       "</table>\n",
       "</div>"
      ],
      "text/plain": [
       "  Country Name  year Continent  Social_support  Intentional_Homicide  \\\n",
       "0      Albania  2016    Europe        0.638411              2.742043   \n",
       "1    Australia  2016   Oceania        0.942334              0.938183   \n",
       "\n",
       "   Graduation_Ratio  Ado_Dropped  Intentional_Homicide_log  \n",
       "0         38.876600      5.17389                  1.008703  \n",
       "1         44.046099      1.09826                 -0.063810  "
      ]
     },
     "execution_count": 20,
     "metadata": {},
     "output_type": "execute_result"
    }
   ],
   "source": [
    "data_transformed_Nas_2016 = data_transformed_Nas_2016.reset_index(drop = True)\n",
    "data_transformed_Nas_2016.head(2)"
   ]
  },
  {
   "cell_type": "code",
   "execution_count": 21,
   "id": "1cd90db2",
   "metadata": {},
   "outputs": [
    {
     "data": {
      "text/html": [
       "<div>\n",
       "<style scoped>\n",
       "    .dataframe tbody tr th:only-of-type {\n",
       "        vertical-align: middle;\n",
       "    }\n",
       "\n",
       "    .dataframe tbody tr th {\n",
       "        vertical-align: top;\n",
       "    }\n",
       "\n",
       "    .dataframe thead th {\n",
       "        text-align: right;\n",
       "    }\n",
       "</style>\n",
       "<table border=\"1\" class=\"dataframe\">\n",
       "  <thead>\n",
       "    <tr style=\"text-align: right;\">\n",
       "      <th></th>\n",
       "      <th>Country Name</th>\n",
       "      <th>year</th>\n",
       "      <th>Continent</th>\n",
       "      <th>Social_support</th>\n",
       "      <th>Intentional_Homicide</th>\n",
       "      <th>Graduation_Ratio</th>\n",
       "      <th>Ado_Dropped</th>\n",
       "      <th>Intentional_Homicide_log</th>\n",
       "    </tr>\n",
       "  </thead>\n",
       "  <tbody>\n",
       "    <tr>\n",
       "      <th>0</th>\n",
       "      <td>Albania</td>\n",
       "      <td>2017</td>\n",
       "      <td>Europe</td>\n",
       "      <td>0.637698</td>\n",
       "      <td>2.014340</td>\n",
       "      <td>43.55277</td>\n",
       "      <td>6.07264</td>\n",
       "      <td>0.700292</td>\n",
       "    </tr>\n",
       "    <tr>\n",
       "      <th>1</th>\n",
       "      <td>Australia</td>\n",
       "      <td>2017</td>\n",
       "      <td>Oceania</td>\n",
       "      <td>0.949958</td>\n",
       "      <td>0.845861</td>\n",
       "      <td>60.38013</td>\n",
       "      <td>1.88277</td>\n",
       "      <td>-0.167400</td>\n",
       "    </tr>\n",
       "  </tbody>\n",
       "</table>\n",
       "</div>"
      ],
      "text/plain": [
       "  Country Name  year Continent  Social_support  Intentional_Homicide  \\\n",
       "0      Albania  2017    Europe        0.637698              2.014340   \n",
       "1    Australia  2017   Oceania        0.949958              0.845861   \n",
       "\n",
       "   Graduation_Ratio  Ado_Dropped  Intentional_Homicide_log  \n",
       "0          43.55277      6.07264                  0.700292  \n",
       "1          60.38013      1.88277                 -0.167400  "
      ]
     },
     "execution_count": 21,
     "metadata": {},
     "output_type": "execute_result"
    }
   ],
   "source": [
    "data_transformed_Nas_2017 = data_transformed_Nas_2017.reset_index(drop = True)\n",
    "data_transformed_Nas_2017.head(2)"
   ]
  },
  {
   "cell_type": "code",
   "execution_count": 22,
   "id": "8349bb6d",
   "metadata": {},
   "outputs": [
    {
     "data": {
      "text/html": [
       "<div>\n",
       "<style scoped>\n",
       "    .dataframe tbody tr th:only-of-type {\n",
       "        vertical-align: middle;\n",
       "    }\n",
       "\n",
       "    .dataframe tbody tr th {\n",
       "        vertical-align: top;\n",
       "    }\n",
       "\n",
       "    .dataframe thead th {\n",
       "        text-align: right;\n",
       "    }\n",
       "</style>\n",
       "<table border=\"1\" class=\"dataframe\">\n",
       "  <thead>\n",
       "    <tr style=\"text-align: right;\">\n",
       "      <th></th>\n",
       "      <th>Country Name</th>\n",
       "      <th>year</th>\n",
       "      <th>Continent</th>\n",
       "      <th>Social_support</th>\n",
       "      <th>Intentional_Homicide</th>\n",
       "      <th>Graduation_Ratio</th>\n",
       "      <th>Ado_Dropped</th>\n",
       "      <th>Intentional_Homicide_log</th>\n",
       "    </tr>\n",
       "  </thead>\n",
       "  <tbody>\n",
       "    <tr>\n",
       "      <th>0</th>\n",
       "      <td>Albania</td>\n",
       "      <td>2018</td>\n",
       "      <td>Europe</td>\n",
       "      <td>0.683592</td>\n",
       "      <td>2.294046</td>\n",
       "      <td>45.24585</td>\n",
       "      <td>3.05680</td>\n",
       "      <td>0.830317</td>\n",
       "    </tr>\n",
       "    <tr>\n",
       "      <th>1</th>\n",
       "      <td>Australia</td>\n",
       "      <td>2018</td>\n",
       "      <td>Oceania</td>\n",
       "      <td>0.940137</td>\n",
       "      <td>0.884735</td>\n",
       "      <td>62.34141</td>\n",
       "      <td>2.45424</td>\n",
       "      <td>-0.122467</td>\n",
       "    </tr>\n",
       "  </tbody>\n",
       "</table>\n",
       "</div>"
      ],
      "text/plain": [
       "  Country Name  year Continent  Social_support  Intentional_Homicide  \\\n",
       "0      Albania  2018    Europe        0.683592              2.294046   \n",
       "1    Australia  2018   Oceania        0.940137              0.884735   \n",
       "\n",
       "   Graduation_Ratio  Ado_Dropped  Intentional_Homicide_log  \n",
       "0          45.24585      3.05680                  0.830317  \n",
       "1          62.34141      2.45424                 -0.122467  "
      ]
     },
     "execution_count": 22,
     "metadata": {},
     "output_type": "execute_result"
    }
   ],
   "source": [
    "data_transformed_Nas_2018 = data_transformed_Nas_2018.reset_index(drop = True)\n",
    "data_transformed_Nas_2018.head(2)"
   ]
  },
  {
   "cell_type": "code",
   "execution_count": 23,
   "id": "65426918",
   "metadata": {},
   "outputs": [
    {
     "data": {
      "text/html": [
       "<div>\n",
       "<style scoped>\n",
       "    .dataframe tbody tr th:only-of-type {\n",
       "        vertical-align: middle;\n",
       "    }\n",
       "\n",
       "    .dataframe tbody tr th {\n",
       "        vertical-align: top;\n",
       "    }\n",
       "\n",
       "    .dataframe thead th {\n",
       "        text-align: right;\n",
       "    }\n",
       "</style>\n",
       "<table border=\"1\" class=\"dataframe\">\n",
       "  <thead>\n",
       "    <tr style=\"text-align: right;\">\n",
       "      <th></th>\n",
       "      <th>Country Name</th>\n",
       "      <th>year</th>\n",
       "      <th>Continent</th>\n",
       "      <th>Social_support</th>\n",
       "      <th>Intentional_Homicide</th>\n",
       "      <th>Graduation_Ratio</th>\n",
       "      <th>Ado_Dropped</th>\n",
       "      <th>Intentional_Homicide_log</th>\n",
       "    </tr>\n",
       "  </thead>\n",
       "  <tbody>\n",
       "    <tr>\n",
       "      <th>0</th>\n",
       "      <td>Albania</td>\n",
       "      <td>2019</td>\n",
       "      <td>Europe</td>\n",
       "      <td>0.686365</td>\n",
       "      <td>2.261748</td>\n",
       "      <td>44.58341</td>\n",
       "      <td>3.69733</td>\n",
       "      <td>0.816138</td>\n",
       "    </tr>\n",
       "    <tr>\n",
       "      <th>1</th>\n",
       "      <td>Australia</td>\n",
       "      <td>2019</td>\n",
       "      <td>Oceania</td>\n",
       "      <td>0.942774</td>\n",
       "      <td>0.887323</td>\n",
       "      <td>62.33461</td>\n",
       "      <td>1.97147</td>\n",
       "      <td>-0.119546</td>\n",
       "    </tr>\n",
       "  </tbody>\n",
       "</table>\n",
       "</div>"
      ],
      "text/plain": [
       "  Country Name  year Continent  Social_support  Intentional_Homicide  \\\n",
       "0      Albania  2019    Europe        0.686365              2.261748   \n",
       "1    Australia  2019   Oceania        0.942774              0.887323   \n",
       "\n",
       "   Graduation_Ratio  Ado_Dropped  Intentional_Homicide_log  \n",
       "0          44.58341      3.69733                  0.816138  \n",
       "1          62.33461      1.97147                 -0.119546  "
      ]
     },
     "execution_count": 23,
     "metadata": {},
     "output_type": "execute_result"
    }
   ],
   "source": [
    "data_transformed_Nas_2019 = data_transformed_Nas_2019.reset_index(drop = True)\n",
    "data_transformed_Nas_2019.head(2)"
   ]
  },
  {
   "cell_type": "markdown",
   "id": "7f4d1f43",
   "metadata": {},
   "source": [
    "## Models"
   ]
  },
  {
   "cell_type": "markdown",
   "id": "05dc5440",
   "metadata": {},
   "source": [
    "## Model 2015"
   ]
  },
  {
   "cell_type": "code",
   "execution_count": 24,
   "id": "3f2cbd35",
   "metadata": {},
   "outputs": [
    {
     "name": "stdout",
     "output_type": "stream",
     "text": [
      "                            OLS Regression Results                            \n",
      "==============================================================================\n",
      "Dep. Variable:         Social_support   R-squared:                       0.402\n",
      "Model:                            OLS   Adj. R-squared:                  0.357\n",
      "Method:                 Least Squares   F-statistic:                     8.971\n",
      "Date:                Wed, 20 Sep 2023   Prob (F-statistic):           0.000115\n",
      "Time:                        09:12:06   Log-Likelihood:                 61.352\n",
      "No. Observations:                  44   AIC:                            -114.7\n",
      "Df Residuals:                      40   BIC:                            -107.6\n",
      "Df Model:                           3                                         \n",
      "Covariance Type:            nonrobust                                         \n",
      "========================================================================================================\n",
      "                                           coef    std err          t      P>|t|      [0.025      0.975]\n",
      "--------------------------------------------------------------------------------------------------------\n",
      "Intercept                                0.9156      0.014     67.451      0.000       0.888       0.943\n",
      "Ado_Dropped                             -0.0066      0.006     -1.157      0.254      -0.018       0.005\n",
      "Intentional_Homicide_log                -0.0100      0.020     -0.502      0.618      -0.050       0.030\n",
      "Ado_Dropped:Intentional_Homicide_log    -0.0197      0.011     -1.768      0.085      -0.042       0.003\n",
      "==============================================================================\n",
      "Omnibus:                       15.548   Durbin-Watson:                   1.875\n",
      "Prob(Omnibus):                  0.000   Jarque-Bera (JB):               17.592\n",
      "Skew:                          -1.297   Prob(JB):                     0.000151\n",
      "Kurtosis:                       4.692   Cond. No.                         9.11\n",
      "==============================================================================\n",
      "\n",
      "Notes:\n",
      "[1] Standard Errors assume that the covariance matrix of the errors is correctly specified.\n"
     ]
    }
   ],
   "source": [
    "lm_all_fix_2015 = ols(\"Social_support ~ Ado_Dropped*Intentional_Homicide_log\", \n",
    "                        data = data_transformed_Nas_2015).fit()\n",
    "\n",
    "print(lm_all_fix_2015.summary())"
   ]
  },
  {
   "cell_type": "code",
   "execution_count": 25,
   "id": "235a6879",
   "metadata": {},
   "outputs": [
    {
     "name": "stdout",
     "output_type": "stream",
     "text": [
      "Number of outliers: 3\n"
     ]
    }
   ],
   "source": [
    "lm_cooksd = lm_all_fix_2015.get_influence().cooks_distance[0]\n",
    "\n",
    "n = len(data_transformed_Nas_2015[\"Social_support\"])\n",
    "\n",
    "critical_d = 4/n\n",
    "\n",
    "out_d = lm_cooksd > critical_d\n",
    "\n",
    "print(\"Number of outliers:\", len(data_transformed_Nas_2015.index[out_d]))"
   ]
  },
  {
   "cell_type": "code",
   "execution_count": 56,
   "id": "cda455c8",
   "metadata": {},
   "outputs": [
    {
     "data": {
      "image/png": "[encoded data removed]",
      "text/plain": [
       "<Figure size 1152x576 with 4 Axes>"
      ]
     },
     "metadata": {
      "needs_background": "light"
     },
     "output_type": "display_data"
    }
   ],
   "source": [
    "fig = sm.graphics.plot_partregress_grid(lm_all_fix_2015)\n",
    "fig.tight_layout(pad=1.0)"
   ]
  },
  {
   "cell_type": "code",
   "execution_count": 26,
   "id": "07815a99",
   "metadata": {
    "scrolled": true
   },
   "outputs": [
    {
     "data": {
      "text/plain": [
       "[('Lagrange multiplier statistic', 1.8573323114625069),\n",
       " ('p-value', 0.6025389497089639)]"
      ]
     },
     "execution_count": 26,
     "metadata": {},
     "output_type": "execute_result"
    }
   ],
   "source": [
    "name = ['Lagrange multiplier statistic', 'p-value']\n",
    "test = sm.stats.het_breuschpagan(lm_all_fix_2015.resid, lm_all_fix_2015.model.exog)\n",
    "lzip(name, test)"
   ]
  },
  {
   "cell_type": "code",
   "execution_count": 27,
   "id": "8ea79c23",
   "metadata": {},
   "outputs": [
    {
     "data": {
      "text/plain": [
       "1.8746810172104644"
      ]
     },
     "execution_count": 27,
     "metadata": {},
     "output_type": "execute_result"
    }
   ],
   "source": [
    "sm.stats.durbin_watson(lm_all_fix_2015.resid)"
   ]
  },
  {
   "cell_type": "code",
   "execution_count": 28,
   "id": "0fe7061c",
   "metadata": {},
   "outputs": [
    {
     "data": {
      "text/html": [
       "<div>\n",
       "<style scoped>\n",
       "    .dataframe tbody tr th:only-of-type {\n",
       "        vertical-align: middle;\n",
       "    }\n",
       "\n",
       "    .dataframe tbody tr th {\n",
       "        vertical-align: top;\n",
       "    }\n",
       "\n",
       "    .dataframe thead th {\n",
       "        text-align: right;\n",
       "    }\n",
       "</style>\n",
       "<table border=\"1\" class=\"dataframe\">\n",
       "  <thead>\n",
       "    <tr style=\"text-align: right;\">\n",
       "      <th></th>\n",
       "      <th>VIF Factor</th>\n",
       "      <th>Feature</th>\n",
       "    </tr>\n",
       "  </thead>\n",
       "  <tbody>\n",
       "    <tr>\n",
       "      <th>0</th>\n",
       "      <td>2.05</td>\n",
       "      <td>Intercept</td>\n",
       "    </tr>\n",
       "    <tr>\n",
       "      <th>1</th>\n",
       "      <td>2.78</td>\n",
       "      <td>Ado_Dropped</td>\n",
       "    </tr>\n",
       "    <tr>\n",
       "      <th>2</th>\n",
       "      <td>1.68</td>\n",
       "      <td>Intentional_Homicide_log</td>\n",
       "    </tr>\n",
       "    <tr>\n",
       "      <th>3</th>\n",
       "      <td>3.57</td>\n",
       "      <td>Ado_Dropped:Intentional_Homicide_log</td>\n",
       "    </tr>\n",
       "  </tbody>\n",
       "</table>\n",
       "</div>"
      ],
      "text/plain": [
       "   VIF Factor                               Feature\n",
       "0        2.05                             Intercept\n",
       "1        2.78                           Ado_Dropped\n",
       "2        1.68              Intentional_Homicide_log\n",
       "3        3.57  Ado_Dropped:Intentional_Homicide_log"
      ]
     },
     "execution_count": 28,
     "metadata": {},
     "output_type": "execute_result"
    }
   ],
   "source": [
    "y, X = dmatrices(\"Social_support ~ Ado_Dropped*Intentional_Homicide_log\",\n",
    "                 data_transformed_Nas_2015, return_type='dataframe')\n",
    "\n",
    "vif = pd.DataFrame()\n",
    "vif[\"VIF Factor\"] = [variance_inflation_factor(X.values, i) for i in range(X.shape[1])]\n",
    "vif[\"Feature\"] = X.columns\n",
    "\n",
    "vif.round(2)"
   ]
  },
  {
   "cell_type": "markdown",
   "id": "8569cf07",
   "metadata": {},
   "source": [
    "## Model 2016"
   ]
  },
  {
   "cell_type": "code",
   "execution_count": 29,
   "id": "c1ab150e",
   "metadata": {},
   "outputs": [
    {
     "name": "stdout",
     "output_type": "stream",
     "text": [
      "                            OLS Regression Results                            \n",
      "==============================================================================\n",
      "Dep. Variable:         Social_support   R-squared:                       0.421\n",
      "Model:                            OLS   Adj. R-squared:                  0.378\n",
      "Method:                 Least Squares   F-statistic:                     9.709\n",
      "Date:                Wed, 20 Sep 2023   Prob (F-statistic):           6.10e-05\n",
      "Time:                        09:12:06   Log-Likelihood:                 73.050\n",
      "No. Observations:                  44   AIC:                            -138.1\n",
      "Df Residuals:                      40   BIC:                            -131.0\n",
      "Df Model:                           3                                         \n",
      "Covariance Type:            nonrobust                                         \n",
      "========================================================================================================\n",
      "                                           coef    std err          t      P>|t|      [0.025      0.975]\n",
      "--------------------------------------------------------------------------------------------------------\n",
      "Intercept                                0.9333      0.011     88.580      0.000       0.912       0.955\n",
      "Ado_Dropped                             -0.0081      0.004     -2.027      0.049      -0.016   -2.31e-05\n",
      "Intentional_Homicide_log                -0.0031      0.014     -0.220      0.827      -0.032       0.026\n",
      "Ado_Dropped:Intentional_Homicide_log    -0.0206      0.008     -2.515      0.016      -0.037      -0.004\n",
      "==============================================================================\n",
      "Omnibus:                       16.976   Durbin-Watson:                   2.002\n",
      "Prob(Omnibus):                  0.000   Jarque-Bera (JB):               20.323\n",
      "Skew:                          -1.358   Prob(JB):                     3.86e-05\n",
      "Kurtosis:                       4.925   Cond. No.                         6.97\n",
      "==============================================================================\n",
      "\n",
      "Notes:\n",
      "[1] Standard Errors assume that the covariance matrix of the errors is correctly specified.\n"
     ]
    }
   ],
   "source": [
    "lm_all_fix_2016 = ols(\"Social_support ~ Ado_Dropped*Intentional_Homicide_log\", \n",
    "                        data = data_transformed_Nas_2016).fit()\n",
    "\n",
    "print(lm_all_fix_2016.summary())"
   ]
  },
  {
   "cell_type": "code",
   "execution_count": 30,
   "id": "5a97ccd5",
   "metadata": {},
   "outputs": [
    {
     "name": "stdout",
     "output_type": "stream",
     "text": [
      "Number of outliers: 5\n"
     ]
    }
   ],
   "source": [
    "lm_cooksd = lm_all_fix_2016.get_influence().cooks_distance[0]\n",
    "\n",
    "n = len(data_transformed_Nas_2016[\"Social_support\"])\n",
    "\n",
    "critical_d = 4/n\n",
    "\n",
    "out_d = lm_cooksd > critical_d\n",
    "\n",
    "print(\"Number of outliers:\", len(data_transformed_Nas_2016.index[out_d]))"
   ]
  },
  {
   "cell_type": "code",
   "execution_count": 57,
   "id": "d3ce5f29",
   "metadata": {},
   "outputs": [
    {
     "data": {
      "image/png": "[encoded data removed]",
      "text/plain": [
       "<Figure size 1152x576 with 4 Axes>"
      ]
     },
     "metadata": {
      "needs_background": "light"
     },
     "output_type": "display_data"
    }
   ],
   "source": [
    "fig = sm.graphics.plot_partregress_grid(lm_all_fix_2016)\n",
    "fig.tight_layout(pad=1.0)"
   ]
  },
  {
   "cell_type": "code",
   "execution_count": 31,
   "id": "511d1a6b",
   "metadata": {},
   "outputs": [
    {
     "data": {
      "text/plain": [
       "[('Lagrange multiplier statistic', 1.8573323114625069),\n",
       " ('p-value', 0.6025389497089639)]"
      ]
     },
     "execution_count": 31,
     "metadata": {},
     "output_type": "execute_result"
    }
   ],
   "source": [
    "name = ['Lagrange multiplier statistic', 'p-value']\n",
    "test = sm.stats.het_breuschpagan(lm_all_fix_2015.resid, lm_all_fix_2015.model.exog)\n",
    "lzip(name, test)"
   ]
  },
  {
   "cell_type": "code",
   "execution_count": 32,
   "id": "5f24c468",
   "metadata": {},
   "outputs": [
    {
     "data": {
      "text/plain": [
       "2.00194435806589"
      ]
     },
     "execution_count": 32,
     "metadata": {},
     "output_type": "execute_result"
    }
   ],
   "source": [
    "sm.stats.durbin_watson(lm_all_fix_2016.resid)"
   ]
  },
  {
   "cell_type": "code",
   "execution_count": 33,
   "id": "988c74e2",
   "metadata": {},
   "outputs": [
    {
     "data": {
      "text/html": [
       "<div>\n",
       "<style scoped>\n",
       "    .dataframe tbody tr th:only-of-type {\n",
       "        vertical-align: middle;\n",
       "    }\n",
       "\n",
       "    .dataframe tbody tr th {\n",
       "        vertical-align: top;\n",
       "    }\n",
       "\n",
       "    .dataframe thead th {\n",
       "        text-align: right;\n",
       "    }\n",
       "</style>\n",
       "<table border=\"1\" class=\"dataframe\">\n",
       "  <thead>\n",
       "    <tr style=\"text-align: right;\">\n",
       "      <th></th>\n",
       "      <th>VIF Factor</th>\n",
       "      <th>Feature</th>\n",
       "    </tr>\n",
       "  </thead>\n",
       "  <tbody>\n",
       "    <tr>\n",
       "      <th>0</th>\n",
       "      <td>2.10</td>\n",
       "      <td>Intercept</td>\n",
       "    </tr>\n",
       "    <tr>\n",
       "      <th>1</th>\n",
       "      <td>1.34</td>\n",
       "      <td>Ado_Dropped</td>\n",
       "    </tr>\n",
       "    <tr>\n",
       "      <th>2</th>\n",
       "      <td>1.80</td>\n",
       "      <td>Intentional_Homicide_log</td>\n",
       "    </tr>\n",
       "    <tr>\n",
       "      <th>3</th>\n",
       "      <td>2.23</td>\n",
       "      <td>Ado_Dropped:Intentional_Homicide_log</td>\n",
       "    </tr>\n",
       "  </tbody>\n",
       "</table>\n",
       "</div>"
      ],
      "text/plain": [
       "   VIF Factor                               Feature\n",
       "0        2.10                             Intercept\n",
       "1        1.34                           Ado_Dropped\n",
       "2        1.80              Intentional_Homicide_log\n",
       "3        2.23  Ado_Dropped:Intentional_Homicide_log"
      ]
     },
     "execution_count": 33,
     "metadata": {},
     "output_type": "execute_result"
    }
   ],
   "source": [
    "y, X = dmatrices(\"Social_support ~ Ado_Dropped*Intentional_Homicide_log\",\n",
    "                 data_transformed_Nas_2016, return_type='dataframe')\n",
    "\n",
    "vif = pd.DataFrame()\n",
    "vif[\"VIF Factor\"] = [variance_inflation_factor(X.values, i) for i in range(X.shape[1])]\n",
    "vif[\"Feature\"] = X.columns\n",
    "\n",
    "vif.round(2)"
   ]
  },
  {
   "cell_type": "markdown",
   "id": "6725a00c",
   "metadata": {},
   "source": [
    "## Model 2017"
   ]
  },
  {
   "cell_type": "code",
   "execution_count": 34,
   "id": "081e6538",
   "metadata": {},
   "outputs": [
    {
     "name": "stdout",
     "output_type": "stream",
     "text": [
      "                            OLS Regression Results                            \n",
      "==============================================================================\n",
      "Dep. Variable:         Social_support   R-squared:                       0.228\n",
      "Model:                            OLS   Adj. R-squared:                  0.170\n",
      "Method:                 Least Squares   F-statistic:                     3.943\n",
      "Date:                Wed, 20 Sep 2023   Prob (F-statistic):             0.0148\n",
      "Time:                        09:12:06   Log-Likelihood:                 62.563\n",
      "No. Observations:                  44   AIC:                            -117.1\n",
      "Df Residuals:                      40   BIC:                            -110.0\n",
      "Df Model:                           3                                         \n",
      "Covariance Type:            nonrobust                                         \n",
      "========================================================================================================\n",
      "                                           coef    std err          t      P>|t|      [0.025      0.975]\n",
      "--------------------------------------------------------------------------------------------------------\n",
      "Intercept                                0.9283      0.014     64.873      0.000       0.899       0.957\n",
      "Ado_Dropped                             -0.0131      0.005     -2.813      0.008      -0.023      -0.004\n",
      "Intentional_Homicide_log                -0.0328      0.018     -1.795      0.080      -0.070       0.004\n",
      "Ado_Dropped:Intentional_Homicide_log     0.0067      0.004      1.781      0.082      -0.001       0.014\n",
      "==============================================================================\n",
      "Omnibus:                       21.602   Durbin-Watson:                   1.855\n",
      "Prob(Omnibus):                  0.000   Jarque-Bera (JB):               35.197\n",
      "Skew:                          -1.436   Prob(JB):                     2.28e-08\n",
      "Kurtosis:                       6.309   Cond. No.                         14.9\n",
      "==============================================================================\n",
      "\n",
      "Notes:\n",
      "[1] Standard Errors assume that the covariance matrix of the errors is correctly specified.\n"
     ]
    }
   ],
   "source": [
    "lm_all_fix_2017 = ols(\"Social_support ~ Ado_Dropped*Intentional_Homicide_log\", \n",
    "                        data = data_transformed_Nas_2017).fit()\n",
    "\n",
    "print(lm_all_fix_2017.summary())"
   ]
  },
  {
   "cell_type": "code",
   "execution_count": 35,
   "id": "479ac896",
   "metadata": {},
   "outputs": [
    {
     "name": "stdout",
     "output_type": "stream",
     "text": [
      "Number of outliers: 4\n"
     ]
    }
   ],
   "source": [
    "lm_cooksd = lm_all_fix_2017.get_influence().cooks_distance[0]\n",
    "\n",
    "n = len(data_transformed_Nas_2017[\"Social_support\"])\n",
    "\n",
    "critical_d = 4/n\n",
    "\n",
    "out_d = lm_cooksd > critical_d\n",
    "\n",
    "print(\"Number of outliers:\", len(data_transformed_Nas_2017.index[out_d]))"
   ]
  },
  {
   "cell_type": "code",
   "execution_count": 58,
   "id": "8f4bb079",
   "metadata": {},
   "outputs": [
    {
     "data": {
      "image/png": "[encoded data removed]",
      "text/plain": [
       "<Figure size 1152x576 with 4 Axes>"
      ]
     },
     "metadata": {
      "needs_background": "light"
     },
     "output_type": "display_data"
    }
   ],
   "source": [
    "fig = sm.graphics.plot_partregress_grid(lm_all_fix_2017)\n",
    "fig.tight_layout(pad=1.0)"
   ]
  },
  {
   "cell_type": "code",
   "execution_count": 55,
   "id": "42c59896",
   "metadata": {},
   "outputs": [
    {
     "data": {
      "text/plain": [
       "[('Lagrange multiplier statistic', 5.845807231166459),\n",
       " ('p-value', 0.11935782873914993)]"
      ]
     },
     "execution_count": 55,
     "metadata": {},
     "output_type": "execute_result"
    }
   ],
   "source": [
    "name = ['Lagrange multiplier statistic', 'p-value']\n",
    "test = sm.stats.het_breuschpagan(lm_all_fix_2017.resid, lm_all_fix_2017.model.exog)\n",
    "lzip(name, test)"
   ]
  },
  {
   "cell_type": "code",
   "execution_count": 37,
   "id": "09a6825c",
   "metadata": {},
   "outputs": [
    {
     "data": {
      "text/plain": [
       "1.8553348653150867"
      ]
     },
     "execution_count": 37,
     "metadata": {},
     "output_type": "execute_result"
    }
   ],
   "source": [
    "sm.stats.durbin_watson(lm_all_fix_2017.resid)"
   ]
  },
  {
   "cell_type": "code",
   "execution_count": 38,
   "id": "37d25c33",
   "metadata": {},
   "outputs": [
    {
     "data": {
      "text/html": [
       "<div>\n",
       "<style scoped>\n",
       "    .dataframe tbody tr th:only-of-type {\n",
       "        vertical-align: middle;\n",
       "    }\n",
       "\n",
       "    .dataframe tbody tr th {\n",
       "        vertical-align: top;\n",
       "    }\n",
       "\n",
       "    .dataframe thead th {\n",
       "        text-align: right;\n",
       "    }\n",
       "</style>\n",
       "<table border=\"1\" class=\"dataframe\">\n",
       "  <thead>\n",
       "    <tr style=\"text-align: right;\">\n",
       "      <th></th>\n",
       "      <th>VIF Factor</th>\n",
       "      <th>Feature</th>\n",
       "    </tr>\n",
       "  </thead>\n",
       "  <tbody>\n",
       "    <tr>\n",
       "      <th>0</th>\n",
       "      <td>2.40</td>\n",
       "      <td>Intercept</td>\n",
       "    </tr>\n",
       "    <tr>\n",
       "      <th>1</th>\n",
       "      <td>3.54</td>\n",
       "      <td>Ado_Dropped</td>\n",
       "    </tr>\n",
       "    <tr>\n",
       "      <th>2</th>\n",
       "      <td>1.58</td>\n",
       "      <td>Intentional_Homicide_log</td>\n",
       "    </tr>\n",
       "    <tr>\n",
       "      <th>3</th>\n",
       "      <td>4.56</td>\n",
       "      <td>Ado_Dropped:Intentional_Homicide_log</td>\n",
       "    </tr>\n",
       "  </tbody>\n",
       "</table>\n",
       "</div>"
      ],
      "text/plain": [
       "   VIF Factor                               Feature\n",
       "0        2.40                             Intercept\n",
       "1        3.54                           Ado_Dropped\n",
       "2        1.58              Intentional_Homicide_log\n",
       "3        4.56  Ado_Dropped:Intentional_Homicide_log"
      ]
     },
     "execution_count": 38,
     "metadata": {},
     "output_type": "execute_result"
    }
   ],
   "source": [
    "y, X = dmatrices(\"Social_support ~ Ado_Dropped*Intentional_Homicide_log\",\n",
    "                 data_transformed_Nas_2017, return_type='dataframe')\n",
    "\n",
    "vif = pd.DataFrame()\n",
    "vif[\"VIF Factor\"] = [variance_inflation_factor(X.values, i) for i in range(X.shape[1])]\n",
    "vif[\"Feature\"] = X.columns\n",
    "\n",
    "vif.round(2)"
   ]
  },
  {
   "cell_type": "markdown",
   "id": "c4b96659",
   "metadata": {},
   "source": [
    "## Model 2018"
   ]
  },
  {
   "cell_type": "code",
   "execution_count": 39,
   "id": "1e8e87a3",
   "metadata": {
    "scrolled": true
   },
   "outputs": [
    {
     "name": "stdout",
     "output_type": "stream",
     "text": [
      "                            OLS Regression Results                            \n",
      "==============================================================================\n",
      "Dep. Variable:         Social_support   R-squared:                       0.140\n",
      "Model:                            OLS   Adj. R-squared:                  0.074\n",
      "Method:                 Least Squares   F-statistic:                     2.114\n",
      "Date:                Wed, 20 Sep 2023   Prob (F-statistic):              0.114\n",
      "Time:                        09:12:07   Log-Likelihood:                 69.403\n",
      "No. Observations:                  43   AIC:                            -130.8\n",
      "Df Residuals:                      39   BIC:                            -123.8\n",
      "Df Model:                           3                                         \n",
      "Covariance Type:            nonrobust                                         \n",
      "========================================================================================================\n",
      "                                           coef    std err          t      P>|t|      [0.025      0.975]\n",
      "--------------------------------------------------------------------------------------------------------\n",
      "Intercept                                0.9230      0.011     80.860      0.000       0.900       0.946\n",
      "Ado_Dropped                             -0.0073      0.004     -2.018      0.050      -0.015     1.6e-05\n",
      "Intentional_Homicide_log                -0.0257      0.015     -1.737      0.090      -0.056       0.004\n",
      "Ado_Dropped:Intentional_Homicide_log     0.0044      0.003      1.613      0.115      -0.001       0.010\n",
      "==============================================================================\n",
      "Omnibus:                       33.769   Durbin-Watson:                   1.873\n",
      "Prob(Omnibus):                  0.000   Jarque-Bera (JB):               92.696\n",
      "Skew:                          -1.995   Prob(JB):                     7.44e-21\n",
      "Kurtosis:                       8.984   Cond. No.                         15.0\n",
      "==============================================================================\n",
      "\n",
      "Notes:\n",
      "[1] Standard Errors assume that the covariance matrix of the errors is correctly specified.\n"
     ]
    }
   ],
   "source": [
    "lm_all_fix_2018 = ols(\"Social_support ~ Ado_Dropped*Intentional_Homicide_log\", \n",
    "                        data = data_transformed_Nas_2018).fit()\n",
    "\n",
    "print(lm_all_fix_2018.summary())"
   ]
  },
  {
   "cell_type": "code",
   "execution_count": 40,
   "id": "ef09d237",
   "metadata": {},
   "outputs": [
    {
     "name": "stdout",
     "output_type": "stream",
     "text": [
      "Number of outliers: 3\n"
     ]
    }
   ],
   "source": [
    "lm_cooksd = lm_all_fix_2018.get_influence().cooks_distance[0]\n",
    "\n",
    "n = len(data_transformed_Nas_2018[\"Social_support\"])\n",
    "\n",
    "critical_d = 4/n\n",
    "\n",
    "out_d = lm_cooksd > critical_d\n",
    "\n",
    "print(\"Number of outliers:\", len(data_transformed_Nas_2018.index[out_d]))"
   ]
  },
  {
   "cell_type": "code",
   "execution_count": 59,
   "id": "48d5c756",
   "metadata": {},
   "outputs": [
    {
     "data": {
      "image/png": "[encoded data removed]",
      "text/plain": [
       "<Figure size 1152x576 with 4 Axes>"
      ]
     },
     "metadata": {
      "needs_background": "light"
     },
     "output_type": "display_data"
    }
   ],
   "source": [
    "fig = sm.graphics.plot_partregress_grid(lm_all_fix_2018)\n",
    "fig.tight_layout(pad=1.0)"
   ]
  },
  {
   "cell_type": "code",
   "execution_count": 41,
   "id": "70e47bb5",
   "metadata": {},
   "outputs": [
    {
     "data": {
      "text/plain": [
       "[('Lagrange multiplier statistic', 1.8573323114625069),\n",
       " ('p-value', 0.6025389497089639)]"
      ]
     },
     "execution_count": 41,
     "metadata": {},
     "output_type": "execute_result"
    }
   ],
   "source": [
    "name = ['Lagrange multiplier statistic', 'p-value']\n",
    "test = sm.stats.het_breuschpagan(lm_all_fix_2015.resid, lm_all_fix_2015.model.exog)\n",
    "lzip(name, test)"
   ]
  },
  {
   "cell_type": "code",
   "execution_count": 42,
   "id": "37dc2049",
   "metadata": {},
   "outputs": [
    {
     "data": {
      "text/plain": [
       "1.8731166020533745"
      ]
     },
     "execution_count": 42,
     "metadata": {},
     "output_type": "execute_result"
    }
   ],
   "source": [
    "sm.stats.durbin_watson(lm_all_fix_2018.resid)"
   ]
  },
  {
   "cell_type": "code",
   "execution_count": 43,
   "id": "e15d7ee7",
   "metadata": {},
   "outputs": [
    {
     "data": {
      "text/html": [
       "<div>\n",
       "<style scoped>\n",
       "    .dataframe tbody tr th:only-of-type {\n",
       "        vertical-align: middle;\n",
       "    }\n",
       "\n",
       "    .dataframe tbody tr th {\n",
       "        vertical-align: top;\n",
       "    }\n",
       "\n",
       "    .dataframe thead th {\n",
       "        text-align: right;\n",
       "    }\n",
       "</style>\n",
       "<table border=\"1\" class=\"dataframe\">\n",
       "  <thead>\n",
       "    <tr style=\"text-align: right;\">\n",
       "      <th></th>\n",
       "      <th>VIF Factor</th>\n",
       "      <th>Feature</th>\n",
       "    </tr>\n",
       "  </thead>\n",
       "  <tbody>\n",
       "    <tr>\n",
       "      <th>0</th>\n",
       "      <td>2.19</td>\n",
       "      <td>Intercept</td>\n",
       "    </tr>\n",
       "    <tr>\n",
       "      <th>1</th>\n",
       "      <td>3.31</td>\n",
       "      <td>Ado_Dropped</td>\n",
       "    </tr>\n",
       "    <tr>\n",
       "      <th>2</th>\n",
       "      <td>1.48</td>\n",
       "      <td>Intentional_Homicide_log</td>\n",
       "    </tr>\n",
       "    <tr>\n",
       "      <th>3</th>\n",
       "      <td>4.14</td>\n",
       "      <td>Ado_Dropped:Intentional_Homicide_log</td>\n",
       "    </tr>\n",
       "  </tbody>\n",
       "</table>\n",
       "</div>"
      ],
      "text/plain": [
       "   VIF Factor                               Feature\n",
       "0        2.19                             Intercept\n",
       "1        3.31                           Ado_Dropped\n",
       "2        1.48              Intentional_Homicide_log\n",
       "3        4.14  Ado_Dropped:Intentional_Homicide_log"
      ]
     },
     "execution_count": 43,
     "metadata": {},
     "output_type": "execute_result"
    }
   ],
   "source": [
    "y, X = dmatrices(\"Social_support ~ Ado_Dropped*Intentional_Homicide_log\",\n",
    "                 data_transformed_Nas_2018, return_type='dataframe')\n",
    "\n",
    "vif = pd.DataFrame()\n",
    "vif[\"VIF Factor\"] = [variance_inflation_factor(X.values, i) for i in range(X.shape[1])]\n",
    "vif[\"Feature\"] = X.columns\n",
    "\n",
    "vif.round(2)"
   ]
  },
  {
   "cell_type": "markdown",
   "id": "a05b85a6",
   "metadata": {},
   "source": [
    "## Predicting start"
   ]
  },
  {
   "cell_type": "code",
   "execution_count": 44,
   "id": "19195305",
   "metadata": {},
   "outputs": [],
   "source": [
    "predictions_2015 = lm_all_fix_2015.predict(data_transformed_Nas_2019) \n",
    "predictions_2016 = lm_all_fix_2016.predict(data_transformed_Nas_2019) \n",
    "predictions_2017 = lm_all_fix_2017.predict(data_transformed_Nas_2019) \n",
    "predictions_2018 = lm_all_fix_2018.predict(data_transformed_Nas_2019) "
   ]
  },
  {
   "cell_type": "code",
   "execution_count": 45,
   "id": "ce549ffc",
   "metadata": {},
   "outputs": [],
   "source": [
    "data_transformed_Nas_2019[\"Predictions_2015\"] = predictions_2015\n",
    "data_transformed_Nas_2019[\"Predictions_2016\"] = predictions_2016\n",
    "data_transformed_Nas_2019[\"Predictions_2017\"] = predictions_2017\n",
    "data_transformed_Nas_2019[\"Predictions_2018\"] = predictions_2018"
   ]
  },
  {
   "cell_type": "code",
   "execution_count": 46,
   "id": "0aeb0a6c",
   "metadata": {},
   "outputs": [],
   "source": [
    "data_transformed_Nas_2019[\"Predictions_Estimate\"] = (data_transformed_Nas_2019[\"Predictions_2015\"] +\n",
    "                                                     data_transformed_Nas_2019[\"Predictions_2016\"] + \n",
    "                                                     data_transformed_Nas_2019[\"Predictions_2017\"] + \n",
    "                                                     data_transformed_Nas_2019[\"Predictions_2018\"]) / 4"
   ]
  },
  {
   "cell_type": "code",
   "execution_count": 47,
   "id": "023005cc",
   "metadata": {},
   "outputs": [
    {
     "data": {
      "text/plain": [
       "-0.29947531489905277"
      ]
     },
     "execution_count": 47,
     "metadata": {},
     "output_type": "execute_result"
    }
   ],
   "source": [
    "## 2015\n",
    "\n",
    "SS_RES = sum((data_transformed_Nas_2019[\"Social_support\"] - \n",
    "         data_transformed_Nas_2019[\"Predictions_2015\"])**2)\n",
    "\n",
    "SS_TOT = sum((data_transformed_Nas_2019[\"Social_support\"] - \n",
    "         np.mean(data_transformed_Nas_2019[\"Social_support\"]))**2)\n",
    "\n",
    "1 - (SS_RES / SS_TOT)"
   ]
  },
  {
   "cell_type": "code",
   "execution_count": 48,
   "id": "5673578e",
   "metadata": {},
   "outputs": [
    {
     "data": {
      "text/plain": [
       "-0.22881543737820875"
      ]
     },
     "execution_count": 48,
     "metadata": {},
     "output_type": "execute_result"
    }
   ],
   "source": [
    "## 2016\n",
    "\n",
    "SS_RES = sum((data_transformed_Nas_2019[\"Social_support\"] - \n",
    "         data_transformed_Nas_2019[\"Predictions_2016\"])**2)\n",
    "\n",
    "SS_TOT = sum((data_transformed_Nas_2019[\"Social_support\"] - \n",
    "         np.mean(data_transformed_Nas_2019[\"Social_support\"]))**2)\n",
    "\n",
    "1 - (SS_RES / SS_TOT)"
   ]
  },
  {
   "cell_type": "code",
   "execution_count": 49,
   "id": "8ccfb8b2",
   "metadata": {},
   "outputs": [
    {
     "data": {
      "text/plain": [
       "-0.036393659260954836"
      ]
     },
     "execution_count": 49,
     "metadata": {},
     "output_type": "execute_result"
    }
   ],
   "source": [
    "## 2017\n",
    "\n",
    "SS_RES = sum((data_transformed_Nas_2019[\"Social_support\"] - \n",
    "         data_transformed_Nas_2019[\"Predictions_2017\"])**2)\n",
    "\n",
    "SS_TOT = sum((data_transformed_Nas_2019[\"Social_support\"] - \n",
    "         np.mean(data_transformed_Nas_2019[\"Social_support\"]))**2)\n",
    "\n",
    "1 - (SS_RES / SS_TOT)"
   ]
  },
  {
   "cell_type": "code",
   "execution_count": 50,
   "id": "bdc59c7f",
   "metadata": {},
   "outputs": [
    {
     "data": {
      "text/plain": [
       "0.12452605258449101"
      ]
     },
     "execution_count": 50,
     "metadata": {},
     "output_type": "execute_result"
    }
   ],
   "source": [
    "## 2018\n",
    "\n",
    "SS_RES = sum((data_transformed_Nas_2019[\"Social_support\"] - \n",
    "         data_transformed_Nas_2019[\"Predictions_2018\"])**2)\n",
    "\n",
    "SS_TOT = sum((data_transformed_Nas_2019[\"Social_support\"] - \n",
    "         np.mean(data_transformed_Nas_2019[\"Social_support\"]))**2)\n",
    "\n",
    "1 - (SS_RES / SS_TOT)"
   ]
  },
  {
   "cell_type": "code",
   "execution_count": 51,
   "id": "edff0c2d",
   "metadata": {},
   "outputs": [
    {
     "data": {
      "text/plain": [
       "0.03541360690761097"
      ]
     },
     "execution_count": 51,
     "metadata": {},
     "output_type": "execute_result"
    }
   ],
   "source": [
    "## Estimate\n",
    "\n",
    "SS_RES = sum((data_transformed_Nas_2019[\"Social_support\"] - \n",
    "         data_transformed_Nas_2019[\"Predictions_Estimate\"])**2)\n",
    "\n",
    "SS_TOT = sum((data_transformed_Nas_2019[\"Social_support\"] - \n",
    "         np.mean(data_transformed_Nas_2019[\"Social_support\"]))**2)\n",
    "\n",
    "1 - (SS_RES / SS_TOT)"
   ]
  },
  {
   "cell_type": "code",
   "execution_count": 60,
   "id": "6e3e78d2",
   "metadata": {},
   "outputs": [
    {
     "data": {
      "image/png": "[encoded data removed]",
      "text/plain": [
       "<Figure size 1152x576 with 1 Axes>"
      ]
     },
     "metadata": {
      "needs_background": "light"
     },
     "output_type": "display_data"
    }
   ],
   "source": [
    "ax1 = sns.scatterplot(\n",
    "                 data = data_transformed_Nas_2019,\n",
    "                    y = \"Social_support\", \n",
    "                    x = \"Predictions_2015\")\n",
    "\n",
    "ax2 = sns.scatterplot( \n",
    "                 data = data_transformed_Nas_2019,\n",
    "                    y = \"Social_support\", \n",
    "                    x = \"Predictions_2016\")\n",
    "\n",
    "ax3 = sns.scatterplot( \n",
    "                 data = data_transformed_Nas_2019,\n",
    "                    y = \"Social_support\", \n",
    "                    x = \"Predictions_2017\")\n",
    "\n",
    "\n",
    "ax4 = sns.scatterplot( \n",
    "                 data = data_transformed_Nas_2019,\n",
    "                    y = \"Social_support\", \n",
    "                    x = \"Predictions_2018\")\n",
    "\n",
    "\n",
    "ax5 = sns.scatterplot( \n",
    "                 data = data_transformed_Nas_2019,\n",
    "                    y = \"Social_support\", \n",
    "                    x = \"Predictions_Estimate\")\n",
    "\n",
    "plt.legend(labels = ['Predictions_2015', \n",
    "                     'Predictions_2016', \n",
    "                     'Predictions_2017', \n",
    "                     'Predictions_2018', \n",
    "                     'Predictions_Estimate'])\n",
    "\n",
    "ax1.set_ylabel(\"True Social_support\", fontsize = 14)\n",
    "ax1.set_xlabel(\"Predicted Social_support\", fontsize = 14)\n",
    "\n",
    "ax1.set_title(\"Calibration Plot for Europe, Canada, United States, New Zealand, and Australia\", fontsize = 16)\n",
    "\n",
    "#plt.savefig('ax1.png')"
   ]
  },
  {
   "cell_type": "code",
   "execution_count": null,
   "id": "fafbd5b4",
   "metadata": {},
   "outputs": [],
   "source": []
  }
 ],
 "metadata": {
  "kernelspec": {
   "display_name": "Python 3 (ipykernel)",
   "language": "python",
   "name": "python3"
  },
  "language_info": {
   "codemirror_mode": {
    "name": "ipython",
    "version": 3
   },
   "file_extension": ".py",
   "mimetype": "text/x-python",
   "name": "python",
   "nbconvert_exporter": "python",
   "pygments_lexer": "ipython3",
   "version": "3.9.7"
  }
 },
 "nbformat": 4,
 "nbformat_minor": 5
}
